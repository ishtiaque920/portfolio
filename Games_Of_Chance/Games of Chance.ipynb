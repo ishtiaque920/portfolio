{
 "cells": [
  {
   "cell_type": "markdown",
   "metadata": {},
   "source": [
    "# Games of Chance"
   ]
  },
  {
   "cell_type": "markdown",
   "metadata": {},
   "source": [
    "You will work to write several functions that simulate games of chance. Each one of these functions will use a number of parameters, random number generation, conditionals, and return statements."
   ]
  },
  {
   "cell_type": "markdown",
   "metadata": {},
   "source": [
    "The project starts by importing the random module. Every game of chance will involve generating a random number.\n",
    "\n",
    "For example, to generate a random between 1 and 10 (inclusive) and store it in a variable named num, use this line of code:\n",
    "\n",
    "num = random.randint(1, 10)\n",
    "\n",
    "The project also has a variable named money that starts at 100. This represents your current amount of money. In every game of chance, you will be able to bet money. The value of money should change depending on whether you win or lose the game.\n",
    "\n",
    "At the end of the project, we will have you call several of these functions in a row to see how much money you can win. But it is a good idea to call these functions to test them as you are creating them.\n",
    "\n",
    "Your functions should have print statements to help the user understand what has happened. For example, in games of chance that involve rolling dice, you should print out the result of those dice rolls. You should also print whether the player won or lost the game, and how much money they won or lost."
   ]
  },
  {
   "cell_type": "code",
   "execution_count": 30,
   "metadata": {},
   "outputs": [],
   "source": [
    "import random\n",
    "\n",
    "money = 100"
   ]
  },
  {
   "cell_type": "markdown",
   "metadata": {},
   "source": [
    "Create a function that simulates flipping a coin and calling either \"Heads\" or \"Tails\". This function (along with all of the other functions you will write in this project) should have a parameter that represents how much the player is betting on the coin flip.\n",
    "\n",
    "This function should also have a parameter that lets the player call either \"Heads\" or \"Tails\".\n",
    "\n",
    "If the player wins the game, the function should return the amount that they won. If the player loses the game, the function should return the amount that they lost as a negative number."
   ]
  },
  {
   "cell_type": "code",
   "execution_count": 31,
   "metadata": {},
   "outputs": [
    {
     "ename": "SyntaxError",
     "evalue": "invalid syntax (<ipython-input-31-1c3693672371>, line 9)",
     "output_type": "error",
     "traceback": [
      "\u001b[1;36m  File \u001b[1;32m\"<ipython-input-31-1c3693672371>\"\u001b[1;36m, line \u001b[1;32m9\u001b[0m\n\u001b[1;33m    if money = bet:\u001b[0m\n\u001b[1;37m             ^\u001b[0m\n\u001b[1;31mSyntaxError\u001b[0m\u001b[1;31m:\u001b[0m invalid syntax\n"
     ]
    }
   ],
   "source": [
    "def flip(face, bet):\n",
    "    print(\"you are playing Flip the coin Game\")\n",
    "    #bet should be above 0\n",
    "    if bet <= 0:\n",
    "        print(\"your bet should be above 0, please try again\")\n",
    "        return 0\n",
    "    \n",
    "    #check it you have money\n",
    "    if money = bet:\n",
    "        print(\"your dont have money for this bet! Please try again\")\n",
    "        return 0\n",
    "    \n",
    "    #start the game\n",
    "    print(\"Let's flip a coin! You guessed \" + face)\n",
    "    result = random.randint(1,2)\n",
    "    \n",
    "    #We can print the result of the coin flip. 1 is heads, 2 is tails.\n",
    "    if result == 1:\n",
    "        print(\"Heads!\")\n",
    "    elif result == 2:\n",
    "        print(\"Tails!\")\n",
    "        \n",
    "    #Check if you won or lost and returns eitehr bet or -bet\n",
    "    if (face == \"Heads\" and result == 1) or (face == \"Tails\" and result == 2):\n",
    "        print(\"You won \" + str(bet)+\" euros!\")\n",
    "        return bet\n",
    "    else:\n",
    "        print(\"You lost \" + str(bet)+\" euros!\")\n",
    "        return -bet"
   ]
  },
  {
   "cell_type": "markdown",
   "metadata": {},
   "source": [
    "\n",
    "Create a function that simulates playing the game [Cho-Han](https://en.wikipedia.org/wiki/Ch%C5%8D-han). The function should simulate rolling two dice and adding the results together. The player predicts whether the sum of those dice is odd or even and wins if their prediction is correct.\n",
    "\n",
    "The function should have a parameter that allows for the player to guess whether the sum of the two dice is \"Odd\" or \"Even\". The function should also have a parameter that allows the player to bet an amount of money on the game."
   ]
  },
  {
   "cell_type": "code",
   "execution_count": 32,
   "metadata": {},
   "outputs": [
    {
     "ename": "SyntaxError",
     "evalue": "invalid syntax (<ipython-input-32-de6e4ca9c068>, line 10)",
     "output_type": "error",
     "traceback": [
      "\u001b[1;36m  File \u001b[1;32m\"<ipython-input-32-de6e4ca9c068>\"\u001b[1;36m, line \u001b[1;32m10\u001b[0m\n\u001b[1;33m    if money = bet:\u001b[0m\n\u001b[1;37m             ^\u001b[0m\n\u001b[1;31mSyntaxError\u001b[0m\u001b[1;31m:\u001b[0m invalid syntax\n"
     ]
    }
   ],
   "source": [
    "def roll_dice(guess, bet):\n",
    "    print(\"you are playing Cho-Han Game\")\n",
    "        \n",
    "    #bet should be above 0\n",
    "    if bet <= 0:\n",
    "        print(\"your bet should be above 0, please try again\")\n",
    "        return 0\n",
    "    \n",
    "    #check it you have money\n",
    "    if money = bet:\n",
    "        print(\"your dont have money for this bet! Please try again\")\n",
    "        return 0\n",
    "    \n",
    "    #start the game\n",
    "    print(\"Let's roll the dice! You guessed \" + guess)\n",
    "    \n",
    "    result = random.randint(1,6) + random.randint(1,6)\n",
    "    \n",
    "    print(\"The sum of the 2 dice is: \" + str(result))\n",
    "    \n",
    "    #lets print the result\n",
    "    if result % 2 == 0:\n",
    "        print(\"Even!\")\n",
    "    elif result % 2 == 1:\n",
    "        print(\"Odd!\")\n",
    "    \n",
    "    #check the result:\n",
    "    if (guess == \"Even\" and result % 2 == 0) or (guess==\"Odd\" and result % 2 ==1):\n",
    "        print(\"You won \" + str(bet)+\" euros!\")\n",
    "        return bet\n",
    "    else:\n",
    "        print(\"You lost \" + str(bet)+\" euros!\")\n",
    "        return -bet"
   ]
  },
  {
   "cell_type": "markdown",
   "metadata": {},
   "source": [
    "Create a function that simulates two players picking a card randomly from a deck of cards. The higher number wins.\n",
    "\n",
    "Once again, this function should have a parameter that allows a player to bet an amount of money on whether they have a higher card. In this game, there can be a tie. What should be returned if there is a tie?"
   ]
  },
  {
   "cell_type": "code",
   "execution_count": 33,
   "metadata": {},
   "outputs": [
    {
     "ename": "SyntaxError",
     "evalue": "invalid syntax (<ipython-input-33-a2e982c16b79>, line 10)",
     "output_type": "error",
     "traceback": [
      "\u001b[1;36m  File \u001b[1;32m\"<ipython-input-33-a2e982c16b79>\"\u001b[1;36m, line \u001b[1;32m10\u001b[0m\n\u001b[1;33m    if money = bet:\u001b[0m\n\u001b[1;37m             ^\u001b[0m\n\u001b[1;31mSyntaxError\u001b[0m\u001b[1;31m:\u001b[0m invalid syntax\n"
     ]
    }
   ],
   "source": [
    "def card_game(bet):\n",
    "    print(\"you are playing the Card Game\")\n",
    "    \n",
    "    #bet should be above 0\n",
    "    if bet <= 0:\n",
    "        print(\"your bet should be above 0, please try again\")\n",
    "        return 0\n",
    "    \n",
    "    #check it you have money\n",
    "    if money = bet:\n",
    "        print(\"your dont have money for this bet! Please try again\")\n",
    "        return 0\n",
    "    \n",
    "    deck_of_cards = [1,1,1,1,2,2,2,2,3,3,3,3,4,4,4,4,5,5,5,5,6,6,6,6,7,7,7,7,10,10,10,10,11,11,11,11,12,12,12,12]\n",
    "    print(\"Player 1 turn, please pick your card\")\n",
    "    player1 = random.choice(deck_of_cards)\n",
    "    deck_of_cards.remove(player1)\n",
    "    print(\"Player 2 turn, please pick your card\")\n",
    "    player2 = random.choice(deck_of_cards)\n",
    "    deck_of_cards.remove(player2)\n",
    "    print(\"Please show your cards\")\n",
    "    print(\"Player 1 card is: \" + str(player1))\n",
    "    print(\"Player 2 card is: \" + str(player2))\n",
    "    \n",
    "    if player1 > player2:\n",
    "        print (\"Player 1 won: \" + str(bet) + \" euros!\")\n",
    "        return bet\n",
    "    elif player2 > player1:\n",
    "        print (\"Player 1 lost: \" + str(bet) + \" euros!\")\n",
    "        return -bet\n",
    "    elif player1 == player2:\n",
    "        print (\"This is a tie! Player 1 won 0 euros!\")\n",
    "        return 0"
   ]
  },
  {
   "cell_type": "markdown",
   "metadata": {},
   "source": [
    "Create a function that simulates some of the rules of [roulette](https://en.wikipedia.org/wiki/Roulette). A random number should be generated that determines which space the ball lands on.\n",
    "\n",
    "When we wrote our function, we allowed the user to guess \"Odd\", \"Even\", or a specific number. We also implemented the logic associated with the 0 and 00 spots. For example, the player loses if they guess either \"Odd\" or \"Even\" and either 0 or 00 comes up.\n",
    "\n",
    "Implement as many rules of roulette as you’d like. Make sure to consider the different ways roulette rewards a win. Check the hint to see more about this!"
   ]
  },
  {
   "cell_type": "code",
   "execution_count": 34,
   "metadata": {},
   "outputs": [
    {
     "ename": "SyntaxError",
     "evalue": "invalid syntax (<ipython-input-34-92db836b3b14>, line 11)",
     "output_type": "error",
     "traceback": [
      "\u001b[1;36m  File \u001b[1;32m\"<ipython-input-34-92db836b3b14>\"\u001b[1;36m, line \u001b[1;32m11\u001b[0m\n\u001b[1;33m    if money = bet:\u001b[0m\n\u001b[1;37m             ^\u001b[0m\n\u001b[1;31mSyntaxError\u001b[0m\u001b[1;31m:\u001b[0m invalid syntax\n"
     ]
    }
   ],
   "source": [
    "def roulette(number, bet):\n",
    "    \n",
    "    print(\"you are playing the Roulette Game\")\n",
    "    \n",
    "    #bet should be above 0\n",
    "    if bet <= 0:\n",
    "        print(\"your bet should be above 0, please try again\")\n",
    "        return 0\n",
    "    \n",
    "    #check it you have money\n",
    "    if money = bet:\n",
    "        print(\"your dont have money for this bet! Please try again\")\n",
    "        return 0\n",
    "    \n",
    "    roulette_numbers = [0, 28, 9, 26, 30, 11, 7, 20, 32, 17, 5,\n",
    "         22, 34, 15, 3, 24, 36, 13, 1, 27,\n",
    "         10, 25 ,29, 12, 8, 19, 31, 18, 6, 21,\n",
    "         33, 16, 4, 23, 35, 14, 2]\n",
    "    print(\"Player has chosen: \" + str(number))\n",
    "    print(\"Roulette is spinning\")\n",
    "    spin_number = random.choice(roulette_numbers)\n",
    "    print(\"We got: \" + str(spin_number))\n",
    "          \n",
    "    if number == spin_number:\n",
    "        print(\"Player won! \" + str(bet) + \" euros!\")\n",
    "        return bet*35\n",
    "          \n",
    "    elif (number == \"Even\" and spin_number % 2 ==0 and result != 0) or (number == \"Odd\" and spin_number % 2 ==1):\n",
    "        print(\"Player won! \" + str(bet) + \" euros!\")\n",
    "        return bet\n",
    "          \n",
    "    else:\n",
    "        print(\"Player lost! \" + str(bet) + \" euros!\")\n",
    "        return -bet"
   ]
  },
  {
   "cell_type": "markdown",
   "metadata": {},
   "source": [
    "Call each of your functions at least once. Below is an example of betting $10 on a coin flip and updating the amount of money you have based on whether you win or lose :\n",
    "\n",
    "money += coin_flip(\"Heads\", 10)\n",
    "\n",
    "Make sure there are enough print statements so you can understand what games were played, what happened during those games, and the amount of money you have after each game is played."
   ]
  },
  {
   "cell_type": "code",
   "execution_count": 40,
   "metadata": {},
   "outputs": [
    {
     "name": "stdout",
     "output_type": "stream",
     "text": [
      "you are playing Flip the coin Game\n",
      "Let's flip a coin! You guessed Heads\n",
      "Tails!\n",
      "You lost 10 euros!\n",
      "you are playing Cho-Han Game\n",
      "Let's roll the dice! You guessed Even\n",
      "The sum of the 2 dice is: 8\n",
      "Even!\n",
      "You won 10 euros!\n",
      "you are playing the Card Game\n",
      "Player 1 turn, please pick your card\n",
      "Player 2 turn, please pick your card\n",
      "Please show your cards\n",
      "Player 1 card is: 5\n",
      "Player 2 card is: 2\n",
      "Player 1 won: 10 euros!\n",
      "you are playing the Roulette Game\n",
      "Player has chosen: 15\n",
      "Roulette is spinning\n",
      "We got: 2\n",
      "Player lost! 10 euros!\n",
      "you currently have 1100 in your pocket\n"
     ]
    }
   ],
   "source": [
    "money += flip(\"Heads\", 10)\n",
    "money += roll_dice(\"Even\", 10)\n",
    "money += card_game(10)\n",
    "money += roulette(15, 10)\n",
    "print(\"you currently have \" + str(money) + \" in your pocket\")"
   ]
  },
  {
   "cell_type": "code",
   "execution_count": 42,
   "metadata": {},
   "outputs": [
    {
     "name": "stdout",
     "output_type": "stream",
     "text": [
      "you are playing Flip the coin Game\n",
      "Let's flip a coin! You guessed Heads\n",
      "Tails!\n",
      "You lost 10 euros!\n",
      "you are playing the Card Game\n",
      "Player 1 turn, please pick your card\n",
      "Player 2 turn, please pick your card\n",
      "Please show your cards\n",
      "Player 1 card is: 2\n",
      "Player 2 card is: 1\n",
      "Player 1 won: 5 euros!\n",
      "you are playing Cho-Han Game\n",
      "Let's roll the dice! You guessed Even\n",
      "The sum of the 2 dice is: 8\n",
      "Even!\n",
      "You won 2 euros!\n",
      "you are playing the Roulette Game\n",
      "Player has chosen: Even\n",
      "Roulette is spinning\n",
      "We got: 25\n",
      "Player lost! 10 euros!\n",
      "you are playing the Roulette Game\n",
      "Player has chosen: 3\n",
      "Roulette is spinning\n",
      "We got: 23\n",
      "Player lost! 1 euros!\n",
      "you are playing the Roulette Game\n",
      "Player has chosen: Odd\n",
      "Roulette is spinning\n",
      "We got: 16\n",
      "Player lost! 1102 euros!\n",
      "Your total amount of money is 0\n"
     ]
    }
   ],
   "source": [
    "money += flip(\"Heads\", 10)\n",
    "money += card_game(5)\n",
    "money += roll_dice(\"Even\", 2)\n",
    "money += roulette(\"Even\", 10)\n",
    "money += roulette(3, 1)\n",
    "money += roulette(\"Odd\", money)\n",
    "print(\"Your total amount of money is \" + str(money))"
   ]
  }
 ],
 "metadata": {
  "kernelspec": {
   "display_name": "Python 3",
   "language": "python",
   "name": "python3"
  },
  "language_info": {
   "codemirror_mode": {
    "name": "ipython",
    "version": 3
   },
   "file_extension": ".py",
   "mimetype": "text/x-python",
   "name": "python",
   "nbconvert_exporter": "python",
   "pygments_lexer": "ipython3",
   "version": "3.7.0"
  }
 },
 "nbformat": 4,
 "nbformat_minor": 2
}
