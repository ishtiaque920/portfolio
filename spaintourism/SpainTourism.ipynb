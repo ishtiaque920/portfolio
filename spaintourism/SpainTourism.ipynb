{
 "cells": [
  {
   "cell_type": "markdown",
   "metadata": {},
   "source": [
    "## Analysing Foreign Tourism in Spain\n",
    "\n",
    "In this project, we will use visualization tools to analize the spanish tourism from its origin in Spain for the period of 2001 - 2018.\n",
    "\n",
    "The dataset for this project has been collated from the Tourist Movement on Borders (Frontur) Survey:\n",
    "- From 2001 to September 2015: [FRONTUR](http://estadisticas.tourspain.es/en-EN/turismobase/Paginas/default.aspx).\n",
    "- From October 2016 to 2018: [INE](http://www.ine.es/dyngs/INEbase/en/operacion.htm?c=Estadistica_C&cid=1254736176996&menu=ultiDatos&idp=1254735576863)\n",
    "\n",
    "As stated in the website, The Tourist Movement on Borders (Frontur) Survey has as main objective to provide monthly and annual estimates on the number of visitors not resident in Spain that come to Spain (turists and same-day visitors), as well as the main features of the trips (way of access, destination, country of residence, reason, way of organization,...)."
   ]
  },
  {
   "cell_type": "code",
   "execution_count": 62,
   "metadata": {},
   "outputs": [],
   "source": [
    "# Import libraries\n",
    "import numpy as np\n",
    "import pandas as pd\n",
    "import matplotlib.pyplot as plt\n",
    "from matplotlib.ticker import FuncFormatter\n",
    "\n",
    "#Load the Tourist Movement dataset\n",
    "url = \"Turismo.csv\"\n",
    "df = pd.read_csv(url)"
   ]
  },
  {
   "cell_type": "code",
   "execution_count": 63,
   "metadata": {
    "scrolled": true
   },
   "outputs": [
    {
     "data": {
      "text/html": [
       "<div>\n",
       "<style scoped>\n",
       "    .dataframe tbody tr th:only-of-type {\n",
       "        vertical-align: middle;\n",
       "    }\n",
       "\n",
       "    .dataframe tbody tr th {\n",
       "        vertical-align: top;\n",
       "    }\n",
       "\n",
       "    .dataframe thead th {\n",
       "        text-align: right;\n",
       "    }\n",
       "</style>\n",
       "<table border=\"1\" class=\"dataframe\">\n",
       "  <thead>\n",
       "    <tr style=\"text-align: right;\">\n",
       "      <th></th>\n",
       "      <th>Origen</th>\n",
       "      <th>2001</th>\n",
       "      <th>2002</th>\n",
       "      <th>2003</th>\n",
       "      <th>2004</th>\n",
       "      <th>2005</th>\n",
       "      <th>2006</th>\n",
       "      <th>2007</th>\n",
       "      <th>2008</th>\n",
       "      <th>2009</th>\n",
       "      <th>2010</th>\n",
       "      <th>2011</th>\n",
       "      <th>2012</th>\n",
       "      <th>2013</th>\n",
       "      <th>2014</th>\n",
       "      <th>2015</th>\n",
       "      <th>2016</th>\n",
       "      <th>2017</th>\n",
       "      <th>2018</th>\n",
       "    </tr>\n",
       "  </thead>\n",
       "  <tbody>\n",
       "    <tr>\n",
       "      <th>0</th>\n",
       "      <td>Total</td>\n",
       "      <td>48565344</td>\n",
       "      <td>50330623</td>\n",
       "      <td>50853815</td>\n",
       "      <td>52429832</td>\n",
       "      <td>55913778</td>\n",
       "      <td>58004462</td>\n",
       "      <td>58665504</td>\n",
       "      <td>57192014</td>\n",
       "      <td>52177640</td>\n",
       "      <td>52676973</td>\n",
       "      <td>56176884</td>\n",
       "      <td>57464496</td>\n",
       "      <td>60675489</td>\n",
       "      <td>64938945</td>\n",
       "      <td>68153674.0</td>\n",
       "      <td>75315008.0</td>\n",
       "      <td>81868522.0</td>\n",
       "      <td>82773156.0</td>\n",
       "    </tr>\n",
       "    <tr>\n",
       "      <th>1</th>\n",
       "      <td>Alemania</td>\n",
       "      <td>10187614</td>\n",
       "      <td>9574615</td>\n",
       "      <td>9303289</td>\n",
       "      <td>9536621</td>\n",
       "      <td>9917619</td>\n",
       "      <td>10139582</td>\n",
       "      <td>10080606</td>\n",
       "      <td>10062629</td>\n",
       "      <td>8935147</td>\n",
       "      <td>8814070</td>\n",
       "      <td>8975236</td>\n",
       "      <td>9318737</td>\n",
       "      <td>9856687</td>\n",
       "      <td>10420411</td>\n",
       "      <td>10249204.0</td>\n",
       "      <td>11208656.0</td>\n",
       "      <td>11897376.0</td>\n",
       "      <td>11414481.0</td>\n",
       "    </tr>\n",
       "    <tr>\n",
       "      <th>2</th>\n",
       "      <td>Austria</td>\n",
       "      <td>397549</td>\n",
       "      <td>433599</td>\n",
       "      <td>415281</td>\n",
       "      <td>413118</td>\n",
       "      <td>481852</td>\n",
       "      <td>525484</td>\n",
       "      <td>489482</td>\n",
       "      <td>546060</td>\n",
       "      <td>506161</td>\n",
       "      <td>561190</td>\n",
       "      <td>579430</td>\n",
       "      <td>564068</td>\n",
       "      <td>568403</td>\n",
       "      <td>591458</td>\n",
       "      <td>NaN</td>\n",
       "      <td>NaN</td>\n",
       "      <td>NaN</td>\n",
       "      <td>NaN</td>\n",
       "    </tr>\n",
       "    <tr>\n",
       "      <th>3</th>\n",
       "      <td>Bélgica</td>\n",
       "      <td>1662930</td>\n",
       "      <td>1733815</td>\n",
       "      <td>1761867</td>\n",
       "      <td>1736388</td>\n",
       "      <td>1821667</td>\n",
       "      <td>1820777</td>\n",
       "      <td>1724409</td>\n",
       "      <td>1636636</td>\n",
       "      <td>1599004</td>\n",
       "      <td>1623375</td>\n",
       "      <td>1756695</td>\n",
       "      <td>1701782</td>\n",
       "      <td>1873388</td>\n",
       "      <td>2177818</td>\n",
       "      <td>2257702.0</td>\n",
       "      <td>2301628.0</td>\n",
       "      <td>2474720.0</td>\n",
       "      <td>2500278.0</td>\n",
       "    </tr>\n",
       "    <tr>\n",
       "      <th>4</th>\n",
       "      <td>Dinamarca</td>\n",
       "      <td>632968</td>\n",
       "      <td>597670</td>\n",
       "      <td>633559</td>\n",
       "      <td>693116</td>\n",
       "      <td>726899</td>\n",
       "      <td>806027</td>\n",
       "      <td>932132</td>\n",
       "      <td>956546</td>\n",
       "      <td>960009</td>\n",
       "      <td>937726</td>\n",
       "      <td>909515</td>\n",
       "      <td>929258</td>\n",
       "      <td>984844</td>\n",
       "      <td>1053936</td>\n",
       "      <td>NaN</td>\n",
       "      <td>NaN</td>\n",
       "      <td>NaN</td>\n",
       "      <td>NaN</td>\n",
       "    </tr>\n",
       "  </tbody>\n",
       "</table>\n",
       "</div>"
      ],
      "text/plain": [
       "      Origen      2001      2002      2003      2004      2005      2006  \\\n",
       "0      Total  48565344  50330623  50853815  52429832  55913778  58004462   \n",
       "1   Alemania  10187614   9574615   9303289   9536621   9917619  10139582   \n",
       "2    Austria    397549    433599    415281    413118    481852    525484   \n",
       "3    Bélgica   1662930   1733815   1761867   1736388   1821667   1820777   \n",
       "4  Dinamarca    632968    597670    633559    693116    726899    806027   \n",
       "\n",
       "       2007      2008      2009      2010      2011      2012      2013  \\\n",
       "0  58665504  57192014  52177640  52676973  56176884  57464496  60675489   \n",
       "1  10080606  10062629   8935147   8814070   8975236   9318737   9856687   \n",
       "2    489482    546060    506161    561190    579430    564068    568403   \n",
       "3   1724409   1636636   1599004   1623375   1756695   1701782   1873388   \n",
       "4    932132    956546    960009    937726    909515    929258    984844   \n",
       "\n",
       "       2014        2015        2016        2017        2018  \n",
       "0  64938945  68153674.0  75315008.0  81868522.0  82773156.0  \n",
       "1  10420411  10249204.0  11208656.0  11897376.0  11414481.0  \n",
       "2    591458         NaN         NaN         NaN         NaN  \n",
       "3   2177818   2257702.0   2301628.0   2474720.0   2500278.0  \n",
       "4   1053936         NaN         NaN         NaN         NaN  "
      ]
     },
     "execution_count": 63,
     "metadata": {},
     "output_type": "execute_result"
    }
   ],
   "source": [
    "#Looking at the first few rows in the dataset\n",
    "df.head()"
   ]
  },
  {
   "cell_type": "code",
   "execution_count": 64,
   "metadata": {},
   "outputs": [
    {
     "ename": "SyntaxError",
     "evalue": "invalid syntax (<ipython-input-64-6d69405ed58a>, line 1)",
     "output_type": "error",
     "traceback": [
      "\u001b[1;36m  File \u001b[1;32m\"<ipython-input-64-6d69405ed58a>\"\u001b[1;36m, line \u001b[1;32m1\u001b[0m\n\u001b[1;33m    As the data is using large numbers, we will convert them to millions, so this will make easier plotting.\u001b[0m\n\u001b[1;37m         ^\u001b[0m\n\u001b[1;31mSyntaxError\u001b[0m\u001b[1;31m:\u001b[0m invalid syntax\n"
     ]
    }
   ],
   "source": [
    "As the data is using large numbers, we will convert them to millions, so this will make easier plotting."
   ]
  },
  {
   "cell_type": "code",
   "execution_count": 65,
   "metadata": {},
   "outputs": [
    {
     "name": "stdout",
     "output_type": "stream",
     "text": [
      "<class 'pandas.core.frame.DataFrame'>\n",
      "RangeIndex: 27 entries, 0 to 26\n",
      "Data columns (total 19 columns):\n",
      "Origen    27 non-null object\n",
      "2001      27 non-null int64\n",
      "2002      27 non-null int64\n",
      "2003      27 non-null int64\n",
      "2004      27 non-null int64\n",
      "2005      27 non-null int64\n",
      "2006      27 non-null int64\n",
      "2007      27 non-null int64\n",
      "2008      27 non-null int64\n",
      "2009      27 non-null int64\n",
      "2010      27 non-null int64\n",
      "2011      27 non-null int64\n",
      "2012      27 non-null int64\n",
      "2013      27 non-null int64\n",
      "2014      27 non-null int64\n",
      "2015      15 non-null float64\n",
      "2016      15 non-null float64\n",
      "2017      15 non-null float64\n",
      "2018      15 non-null float64\n",
      "dtypes: float64(4), int64(14), object(1)\n",
      "memory usage: 4.1+ KB\n"
     ]
    }
   ],
   "source": [
    "#Information about the dataset\n",
    "df.info()"
   ]
  },
  {
   "cell_type": "markdown",
   "metadata": {},
   "source": [
    "We can see that, due to the data coming from 2 difference sources, from 2015 the number of columns is only 15. For the purpose of this analysis, we will nead to deal with it.\n",
    "Also, this is causing the data to have different datatypes, which we are going to adjust."
   ]
  },
  {
   "cell_type": "code",
   "execution_count": 66,
   "metadata": {},
   "outputs": [],
   "source": [
    "#We need to convert all the columns to float\n",
    "df[[\"2001\", \"2002\", \"2003\",\n",
    "    \"2004\", \"2005\", \"2006\", \"2007\",\n",
    "    \"2008\", \"2009\", \"2010\", \"2011\",\n",
    "    \"2012\", \"2013\", \"2014\"]] = df[[\"2001\", \"2002\", \"2003\",\n",
    "    \"2004\", \"2005\", \"2006\", \"2007\",\n",
    "    \"2008\", \"2009\", \"2010\", \"2011\",\n",
    "    \"2012\", \"2013\", \"2014\"]].astype(\"float64\")"
   ]
  },
  {
   "cell_type": "code",
   "execution_count": 67,
   "metadata": {},
   "outputs": [],
   "source": [
    "#Easier to manage the data in millions\n",
    "df[[\"2001\", \"2002\", \"2003\",\n",
    "    \"2004\", \"2005\", \"2006\", \"2007\",\n",
    "    \"2008\", \"2009\", \"2010\", \"2011\",\n",
    "    \"2012\", \"2013\", \"2014\", \"2015\", \"2016\", \"2017\", \"2018\"]] = df[[\"2001\", \"2002\", \"2003\",\n",
    "    \"2004\", \"2005\", \"2006\", \"2007\",\n",
    "    \"2008\", \"2009\", \"2010\", \"2011\",\n",
    "    \"2012\", \"2013\", \"2014\", \"2015\", \"2016\", \"2017\", \"2018\"]].divide(1000000)"
   ]
  },
  {
   "cell_type": "code",
   "execution_count": 68,
   "metadata": {},
   "outputs": [
    {
     "data": {
      "text/html": [
       "<div>\n",
       "<style scoped>\n",
       "    .dataframe tbody tr th:only-of-type {\n",
       "        vertical-align: middle;\n",
       "    }\n",
       "\n",
       "    .dataframe tbody tr th {\n",
       "        vertical-align: top;\n",
       "    }\n",
       "\n",
       "    .dataframe thead th {\n",
       "        text-align: right;\n",
       "    }\n",
       "</style>\n",
       "<table border=\"1\" class=\"dataframe\">\n",
       "  <thead>\n",
       "    <tr style=\"text-align: right;\">\n",
       "      <th></th>\n",
       "      <th>2001</th>\n",
       "      <th>2002</th>\n",
       "      <th>2003</th>\n",
       "      <th>2004</th>\n",
       "      <th>2005</th>\n",
       "      <th>2006</th>\n",
       "      <th>2007</th>\n",
       "      <th>2008</th>\n",
       "      <th>2009</th>\n",
       "      <th>2010</th>\n",
       "      <th>2011</th>\n",
       "      <th>2012</th>\n",
       "      <th>2013</th>\n",
       "      <th>2014</th>\n",
       "      <th>2015</th>\n",
       "      <th>2016</th>\n",
       "      <th>2017</th>\n",
       "      <th>2018</th>\n",
       "    </tr>\n",
       "  </thead>\n",
       "  <tbody>\n",
       "    <tr>\n",
       "      <th>count</th>\n",
       "      <td>27.000000</td>\n",
       "      <td>27.000000</td>\n",
       "      <td>27.000000</td>\n",
       "      <td>27.000000</td>\n",
       "      <td>27.000000</td>\n",
       "      <td>27.000000</td>\n",
       "      <td>27.000000</td>\n",
       "      <td>27.000000</td>\n",
       "      <td>27.000000</td>\n",
       "      <td>27.000000</td>\n",
       "      <td>27.000000</td>\n",
       "      <td>27.000000</td>\n",
       "      <td>27.000000</td>\n",
       "      <td>27.000000</td>\n",
       "      <td>15.000000</td>\n",
       "      <td>15.000000</td>\n",
       "      <td>15.000000</td>\n",
       "      <td>15.000000</td>\n",
       "    </tr>\n",
       "    <tr>\n",
       "      <th>mean</th>\n",
       "      <td>3.597433</td>\n",
       "      <td>3.728194</td>\n",
       "      <td>3.766949</td>\n",
       "      <td>3.883691</td>\n",
       "      <td>4.141761</td>\n",
       "      <td>4.296627</td>\n",
       "      <td>4.345593</td>\n",
       "      <td>4.236445</td>\n",
       "      <td>3.865010</td>\n",
       "      <td>3.901998</td>\n",
       "      <td>4.161251</td>\n",
       "      <td>4.256629</td>\n",
       "      <td>4.494481</td>\n",
       "      <td>4.810292</td>\n",
       "      <td>8.758272</td>\n",
       "      <td>9.700066</td>\n",
       "      <td>10.527366</td>\n",
       "      <td>10.650850</td>\n",
       "    </tr>\n",
       "    <tr>\n",
       "      <th>std</th>\n",
       "      <td>9.529872</td>\n",
       "      <td>9.872242</td>\n",
       "      <td>10.021022</td>\n",
       "      <td>10.315750</td>\n",
       "      <td>10.978035</td>\n",
       "      <td>11.358003</td>\n",
       "      <td>11.473516</td>\n",
       "      <td>11.170037</td>\n",
       "      <td>10.143795</td>\n",
       "      <td>10.196323</td>\n",
       "      <td>10.868259</td>\n",
       "      <td>11.111813</td>\n",
       "      <td>11.731238</td>\n",
       "      <td>12.550716</td>\n",
       "      <td>17.008092</td>\n",
       "      <td>18.753439</td>\n",
       "      <td>20.329520</td>\n",
       "      <td>20.509158</td>\n",
       "    </tr>\n",
       "    <tr>\n",
       "      <th>min</th>\n",
       "      <td>0.064052</td>\n",
       "      <td>0.058607</td>\n",
       "      <td>0.056614</td>\n",
       "      <td>0.053352</td>\n",
       "      <td>0.057556</td>\n",
       "      <td>0.075406</td>\n",
       "      <td>0.059845</td>\n",
       "      <td>0.069600</td>\n",
       "      <td>0.024222</td>\n",
       "      <td>0.017706</td>\n",
       "      <td>0.037671</td>\n",
       "      <td>0.040618</td>\n",
       "      <td>0.057641</td>\n",
       "      <td>0.061237</td>\n",
       "      <td>0.959930</td>\n",
       "      <td>1.004577</td>\n",
       "      <td>1.150055</td>\n",
       "      <td>1.222426</td>\n",
       "    </tr>\n",
       "    <tr>\n",
       "      <th>25%</th>\n",
       "      <td>0.214976</td>\n",
       "      <td>0.238271</td>\n",
       "      <td>0.220677</td>\n",
       "      <td>0.224979</td>\n",
       "      <td>0.271247</td>\n",
       "      <td>0.299337</td>\n",
       "      <td>0.307457</td>\n",
       "      <td>0.288218</td>\n",
       "      <td>0.339728</td>\n",
       "      <td>0.420045</td>\n",
       "      <td>0.410315</td>\n",
       "      <td>0.395926</td>\n",
       "      <td>0.396649</td>\n",
       "      <td>0.457917</td>\n",
       "      <td>1.776924</td>\n",
       "      <td>1.998988</td>\n",
       "      <td>2.306300</td>\n",
       "      <td>2.423341</td>\n",
       "    </tr>\n",
       "    <tr>\n",
       "      <th>50%</th>\n",
       "      <td>0.745778</td>\n",
       "      <td>0.903510</td>\n",
       "      <td>0.887135</td>\n",
       "      <td>0.892101</td>\n",
       "      <td>0.883523</td>\n",
       "      <td>0.918686</td>\n",
       "      <td>1.046698</td>\n",
       "      <td>1.044591</td>\n",
       "      <td>0.969949</td>\n",
       "      <td>1.112935</td>\n",
       "      <td>1.137298</td>\n",
       "      <td>1.239199</td>\n",
       "      <td>1.487427</td>\n",
       "      <td>1.420467</td>\n",
       "      <td>2.916983</td>\n",
       "      <td>3.355031</td>\n",
       "      <td>3.704549</td>\n",
       "      <td>3.848545</td>\n",
       "    </tr>\n",
       "    <tr>\n",
       "      <th>75%</th>\n",
       "      <td>1.608142</td>\n",
       "      <td>1.699823</td>\n",
       "      <td>1.693159</td>\n",
       "      <td>1.830271</td>\n",
       "      <td>1.963837</td>\n",
       "      <td>2.148919</td>\n",
       "      <td>2.167667</td>\n",
       "      <td>2.229925</td>\n",
       "      <td>2.075282</td>\n",
       "      <td>2.085984</td>\n",
       "      <td>2.084899</td>\n",
       "      <td>2.009775</td>\n",
       "      <td>2.158043</td>\n",
       "      <td>2.416513</td>\n",
       "      <td>7.064948</td>\n",
       "      <td>8.117809</td>\n",
       "      <td>8.405140</td>\n",
       "      <td>8.661943</td>\n",
       "    </tr>\n",
       "    <tr>\n",
       "      <th>max</th>\n",
       "      <td>48.565344</td>\n",
       "      <td>50.330623</td>\n",
       "      <td>50.853815</td>\n",
       "      <td>52.429832</td>\n",
       "      <td>55.913778</td>\n",
       "      <td>58.004462</td>\n",
       "      <td>58.665504</td>\n",
       "      <td>57.192014</td>\n",
       "      <td>52.177640</td>\n",
       "      <td>52.676973</td>\n",
       "      <td>56.176884</td>\n",
       "      <td>57.464496</td>\n",
       "      <td>60.675489</td>\n",
       "      <td>64.938945</td>\n",
       "      <td>68.153674</td>\n",
       "      <td>75.315008</td>\n",
       "      <td>81.868522</td>\n",
       "      <td>82.773156</td>\n",
       "    </tr>\n",
       "  </tbody>\n",
       "</table>\n",
       "</div>"
      ],
      "text/plain": [
       "            2001       2002       2003       2004       2005       2006  \\\n",
       "count  27.000000  27.000000  27.000000  27.000000  27.000000  27.000000   \n",
       "mean    3.597433   3.728194   3.766949   3.883691   4.141761   4.296627   \n",
       "std     9.529872   9.872242  10.021022  10.315750  10.978035  11.358003   \n",
       "min     0.064052   0.058607   0.056614   0.053352   0.057556   0.075406   \n",
       "25%     0.214976   0.238271   0.220677   0.224979   0.271247   0.299337   \n",
       "50%     0.745778   0.903510   0.887135   0.892101   0.883523   0.918686   \n",
       "75%     1.608142   1.699823   1.693159   1.830271   1.963837   2.148919   \n",
       "max    48.565344  50.330623  50.853815  52.429832  55.913778  58.004462   \n",
       "\n",
       "            2007       2008       2009       2010       2011       2012  \\\n",
       "count  27.000000  27.000000  27.000000  27.000000  27.000000  27.000000   \n",
       "mean    4.345593   4.236445   3.865010   3.901998   4.161251   4.256629   \n",
       "std    11.473516  11.170037  10.143795  10.196323  10.868259  11.111813   \n",
       "min     0.059845   0.069600   0.024222   0.017706   0.037671   0.040618   \n",
       "25%     0.307457   0.288218   0.339728   0.420045   0.410315   0.395926   \n",
       "50%     1.046698   1.044591   0.969949   1.112935   1.137298   1.239199   \n",
       "75%     2.167667   2.229925   2.075282   2.085984   2.084899   2.009775   \n",
       "max    58.665504  57.192014  52.177640  52.676973  56.176884  57.464496   \n",
       "\n",
       "            2013       2014       2015       2016       2017       2018  \n",
       "count  27.000000  27.000000  15.000000  15.000000  15.000000  15.000000  \n",
       "mean    4.494481   4.810292   8.758272   9.700066  10.527366  10.650850  \n",
       "std    11.731238  12.550716  17.008092  18.753439  20.329520  20.509158  \n",
       "min     0.057641   0.061237   0.959930   1.004577   1.150055   1.222426  \n",
       "25%     0.396649   0.457917   1.776924   1.998988   2.306300   2.423341  \n",
       "50%     1.487427   1.420467   2.916983   3.355031   3.704549   3.848545  \n",
       "75%     2.158043   2.416513   7.064948   8.117809   8.405140   8.661943  \n",
       "max    60.675489  64.938945  68.153674  75.315008  81.868522  82.773156  "
      ]
     },
     "execution_count": 68,
     "metadata": {},
     "output_type": "execute_result"
    }
   ],
   "source": [
    "df.describe()"
   ]
  },
  {
   "cell_type": "markdown",
   "metadata": {},
   "source": [
    "We can examine the types of the column label and change all to string if needed"
   ]
  },
  {
   "cell_type": "code",
   "execution_count": 69,
   "metadata": {},
   "outputs": [
    {
     "data": {
      "text/plain": [
       "True"
      ]
     },
     "execution_count": 69,
     "metadata": {},
     "output_type": "execute_result"
    }
   ],
   "source": [
    "# let's examine the types of the column labels\n",
    "all(isinstance(column, str) for column in df.columns)\n",
    "#df_can.columns = list(map(str, df.columns)) - this is the code needed to change it"
   ]
  },
  {
   "cell_type": "code",
   "execution_count": 70,
   "metadata": {},
   "outputs": [
    {
     "data": {
      "text/plain": [
       "array(['Origen', '2001', '2002', '2003', '2004', '2005', '2006', '2007',\n",
       "       '2008', '2009', '2010', '2011', '2012', '2013', '2014', '2015',\n",
       "       '2016', '2017', '2018'], dtype=object)"
      ]
     },
     "execution_count": 70,
     "metadata": {},
     "output_type": "execute_result"
    }
   ],
   "source": [
    "df.columns.values"
   ]
  },
  {
   "cell_type": "code",
   "execution_count": 71,
   "metadata": {},
   "outputs": [
    {
     "data": {
      "text/plain": [
       "array([ 0,  1,  2,  3,  4,  5,  6,  7,  8,  9, 10, 11, 12, 13, 14, 15, 16,\n",
       "       17, 18, 19, 20, 21, 22, 23, 24, 25, 26], dtype=int64)"
      ]
     },
     "execution_count": 71,
     "metadata": {},
     "output_type": "execute_result"
    }
   ],
   "source": [
    "df.index.values"
   ]
  },
  {
   "cell_type": "code",
   "execution_count": 72,
   "metadata": {},
   "outputs": [
    {
     "name": "stdout",
     "output_type": "stream",
     "text": [
      "<class 'pandas.core.indexes.base.Index'>\n",
      "<class 'pandas.core.indexes.range.RangeIndex'>\n"
     ]
    }
   ],
   "source": [
    "print(type(df.columns))\n",
    "print(type(df.index))"
   ]
  },
  {
   "cell_type": "code",
   "execution_count": 73,
   "metadata": {},
   "outputs": [
    {
     "name": "stdout",
     "output_type": "stream",
     "text": [
      "<class 'list'>\n",
      "<class 'list'>\n"
     ]
    }
   ],
   "source": [
    "df.columns.tolist()\n",
    "df.columns.tolist()\n",
    "print(type(df.columns.tolist()))\n",
    "print(type(df.index.tolist()))"
   ]
  },
  {
   "cell_type": "code",
   "execution_count": 74,
   "metadata": {},
   "outputs": [
    {
     "data": {
      "text/plain": [
       "(27, 19)"
      ]
     },
     "execution_count": 74,
     "metadata": {},
     "output_type": "execute_result"
    }
   ],
   "source": [
    "df.shape"
   ]
  },
  {
   "cell_type": "code",
   "execution_count": 75,
   "metadata": {},
   "outputs": [],
   "source": [
    "df['Total']=df.sum(axis=1)"
   ]
  },
  {
   "cell_type": "code",
   "execution_count": 76,
   "metadata": {},
   "outputs": [
    {
     "data": {
      "text/plain": [
       "Origen     0\n",
       "2001       0\n",
       "2002       0\n",
       "2003       0\n",
       "2004       0\n",
       "2005       0\n",
       "2006       0\n",
       "2007       0\n",
       "2008       0\n",
       "2009       0\n",
       "2010       0\n",
       "2011       0\n",
       "2012       0\n",
       "2013       0\n",
       "2014       0\n",
       "2015      12\n",
       "2016      12\n",
       "2017      12\n",
       "2018      12\n",
       "Total      0\n",
       "dtype: int64"
      ]
     },
     "execution_count": 76,
     "metadata": {},
     "output_type": "execute_result"
    }
   ],
   "source": [
    "df.isnull().sum()"
   ]
  },
  {
   "cell_type": "code",
   "execution_count": 77,
   "metadata": {},
   "outputs": [
    {
     "data": {
      "text/html": [
       "<div>\n",
       "<style scoped>\n",
       "    .dataframe tbody tr th:only-of-type {\n",
       "        vertical-align: middle;\n",
       "    }\n",
       "\n",
       "    .dataframe tbody tr th {\n",
       "        vertical-align: top;\n",
       "    }\n",
       "\n",
       "    .dataframe thead th {\n",
       "        text-align: right;\n",
       "    }\n",
       "</style>\n",
       "<table border=\"1\" class=\"dataframe\">\n",
       "  <thead>\n",
       "    <tr style=\"text-align: right;\">\n",
       "      <th></th>\n",
       "      <th>2001</th>\n",
       "      <th>2002</th>\n",
       "      <th>2003</th>\n",
       "      <th>2004</th>\n",
       "      <th>2005</th>\n",
       "      <th>2006</th>\n",
       "      <th>2007</th>\n",
       "      <th>2008</th>\n",
       "      <th>2009</th>\n",
       "      <th>2010</th>\n",
       "      <th>2011</th>\n",
       "      <th>2012</th>\n",
       "      <th>2013</th>\n",
       "      <th>2014</th>\n",
       "      <th>2015</th>\n",
       "      <th>2016</th>\n",
       "      <th>2017</th>\n",
       "      <th>2018</th>\n",
       "      <th>Total</th>\n",
       "    </tr>\n",
       "  </thead>\n",
       "  <tbody>\n",
       "    <tr>\n",
       "      <th>count</th>\n",
       "      <td>27.000000</td>\n",
       "      <td>27.000000</td>\n",
       "      <td>27.000000</td>\n",
       "      <td>27.000000</td>\n",
       "      <td>27.000000</td>\n",
       "      <td>27.000000</td>\n",
       "      <td>27.000000</td>\n",
       "      <td>27.000000</td>\n",
       "      <td>27.000000</td>\n",
       "      <td>27.000000</td>\n",
       "      <td>27.000000</td>\n",
       "      <td>27.000000</td>\n",
       "      <td>27.000000</td>\n",
       "      <td>27.000000</td>\n",
       "      <td>15.000000</td>\n",
       "      <td>15.000000</td>\n",
       "      <td>15.000000</td>\n",
       "      <td>15.000000</td>\n",
       "      <td>27.000000</td>\n",
       "    </tr>\n",
       "    <tr>\n",
       "      <th>mean</th>\n",
       "      <td>3.597433</td>\n",
       "      <td>3.728194</td>\n",
       "      <td>3.766949</td>\n",
       "      <td>3.883691</td>\n",
       "      <td>4.141761</td>\n",
       "      <td>4.296627</td>\n",
       "      <td>4.345593</td>\n",
       "      <td>4.236445</td>\n",
       "      <td>3.865010</td>\n",
       "      <td>3.901998</td>\n",
       "      <td>4.161251</td>\n",
       "      <td>4.256629</td>\n",
       "      <td>4.494481</td>\n",
       "      <td>4.810292</td>\n",
       "      <td>8.758272</td>\n",
       "      <td>9.700066</td>\n",
       "      <td>10.527366</td>\n",
       "      <td>10.650850</td>\n",
       "      <td>79.506664</td>\n",
       "    </tr>\n",
       "    <tr>\n",
       "      <th>std</th>\n",
       "      <td>9.529872</td>\n",
       "      <td>9.872242</td>\n",
       "      <td>10.021022</td>\n",
       "      <td>10.315750</td>\n",
       "      <td>10.978035</td>\n",
       "      <td>11.358003</td>\n",
       "      <td>11.473516</td>\n",
       "      <td>11.170037</td>\n",
       "      <td>10.143795</td>\n",
       "      <td>10.196323</td>\n",
       "      <td>10.868259</td>\n",
       "      <td>11.111813</td>\n",
       "      <td>11.731238</td>\n",
       "      <td>12.550716</td>\n",
       "      <td>17.008092</td>\n",
       "      <td>18.753439</td>\n",
       "      <td>20.329520</td>\n",
       "      <td>20.509158</td>\n",
       "      <td>210.791652</td>\n",
       "    </tr>\n",
       "    <tr>\n",
       "      <th>min</th>\n",
       "      <td>0.064052</td>\n",
       "      <td>0.058607</td>\n",
       "      <td>0.056614</td>\n",
       "      <td>0.053352</td>\n",
       "      <td>0.057556</td>\n",
       "      <td>0.075406</td>\n",
       "      <td>0.059845</td>\n",
       "      <td>0.069600</td>\n",
       "      <td>0.024222</td>\n",
       "      <td>0.017706</td>\n",
       "      <td>0.037671</td>\n",
       "      <td>0.040618</td>\n",
       "      <td>0.057641</td>\n",
       "      <td>0.061237</td>\n",
       "      <td>0.959930</td>\n",
       "      <td>1.004577</td>\n",
       "      <td>1.150055</td>\n",
       "      <td>1.222426</td>\n",
       "      <td>0.734127</td>\n",
       "    </tr>\n",
       "    <tr>\n",
       "      <th>25%</th>\n",
       "      <td>0.214976</td>\n",
       "      <td>0.238271</td>\n",
       "      <td>0.220677</td>\n",
       "      <td>0.224979</td>\n",
       "      <td>0.271247</td>\n",
       "      <td>0.299337</td>\n",
       "      <td>0.307457</td>\n",
       "      <td>0.288218</td>\n",
       "      <td>0.339728</td>\n",
       "      <td>0.420045</td>\n",
       "      <td>0.410315</td>\n",
       "      <td>0.395926</td>\n",
       "      <td>0.396649</td>\n",
       "      <td>0.457917</td>\n",
       "      <td>1.776924</td>\n",
       "      <td>1.998988</td>\n",
       "      <td>2.306300</td>\n",
       "      <td>2.423341</td>\n",
       "      <td>5.541582</td>\n",
       "    </tr>\n",
       "    <tr>\n",
       "      <th>50%</th>\n",
       "      <td>0.745778</td>\n",
       "      <td>0.903510</td>\n",
       "      <td>0.887135</td>\n",
       "      <td>0.892101</td>\n",
       "      <td>0.883523</td>\n",
       "      <td>0.918686</td>\n",
       "      <td>1.046698</td>\n",
       "      <td>1.044591</td>\n",
       "      <td>0.969949</td>\n",
       "      <td>1.112935</td>\n",
       "      <td>1.137298</td>\n",
       "      <td>1.239199</td>\n",
       "      <td>1.487427</td>\n",
       "      <td>1.420467</td>\n",
       "      <td>2.916983</td>\n",
       "      <td>3.355031</td>\n",
       "      <td>3.704549</td>\n",
       "      <td>3.848545</td>\n",
       "      <td>16.519833</td>\n",
       "    </tr>\n",
       "    <tr>\n",
       "      <th>75%</th>\n",
       "      <td>1.608142</td>\n",
       "      <td>1.699823</td>\n",
       "      <td>1.693159</td>\n",
       "      <td>1.830271</td>\n",
       "      <td>1.963837</td>\n",
       "      <td>2.148919</td>\n",
       "      <td>2.167667</td>\n",
       "      <td>2.229925</td>\n",
       "      <td>2.075282</td>\n",
       "      <td>2.085984</td>\n",
       "      <td>2.084899</td>\n",
       "      <td>2.009775</td>\n",
       "      <td>2.158043</td>\n",
       "      <td>2.416513</td>\n",
       "      <td>7.064948</td>\n",
       "      <td>8.117809</td>\n",
       "      <td>8.405140</td>\n",
       "      <td>8.661943</td>\n",
       "      <td>42.137817</td>\n",
       "    </tr>\n",
       "    <tr>\n",
       "      <th>max</th>\n",
       "      <td>48.565344</td>\n",
       "      <td>50.330623</td>\n",
       "      <td>50.853815</td>\n",
       "      <td>52.429832</td>\n",
       "      <td>55.913778</td>\n",
       "      <td>58.004462</td>\n",
       "      <td>58.665504</td>\n",
       "      <td>57.192014</td>\n",
       "      <td>52.177640</td>\n",
       "      <td>52.676973</td>\n",
       "      <td>56.176884</td>\n",
       "      <td>57.464496</td>\n",
       "      <td>60.675489</td>\n",
       "      <td>64.938945</td>\n",
       "      <td>68.153674</td>\n",
       "      <td>75.315008</td>\n",
       "      <td>81.868522</td>\n",
       "      <td>82.773156</td>\n",
       "      <td>1084.176159</td>\n",
       "    </tr>\n",
       "  </tbody>\n",
       "</table>\n",
       "</div>"
      ],
      "text/plain": [
       "            2001       2002       2003       2004       2005       2006  \\\n",
       "count  27.000000  27.000000  27.000000  27.000000  27.000000  27.000000   \n",
       "mean    3.597433   3.728194   3.766949   3.883691   4.141761   4.296627   \n",
       "std     9.529872   9.872242  10.021022  10.315750  10.978035  11.358003   \n",
       "min     0.064052   0.058607   0.056614   0.053352   0.057556   0.075406   \n",
       "25%     0.214976   0.238271   0.220677   0.224979   0.271247   0.299337   \n",
       "50%     0.745778   0.903510   0.887135   0.892101   0.883523   0.918686   \n",
       "75%     1.608142   1.699823   1.693159   1.830271   1.963837   2.148919   \n",
       "max    48.565344  50.330623  50.853815  52.429832  55.913778  58.004462   \n",
       "\n",
       "            2007       2008       2009       2010       2011       2012  \\\n",
       "count  27.000000  27.000000  27.000000  27.000000  27.000000  27.000000   \n",
       "mean    4.345593   4.236445   3.865010   3.901998   4.161251   4.256629   \n",
       "std    11.473516  11.170037  10.143795  10.196323  10.868259  11.111813   \n",
       "min     0.059845   0.069600   0.024222   0.017706   0.037671   0.040618   \n",
       "25%     0.307457   0.288218   0.339728   0.420045   0.410315   0.395926   \n",
       "50%     1.046698   1.044591   0.969949   1.112935   1.137298   1.239199   \n",
       "75%     2.167667   2.229925   2.075282   2.085984   2.084899   2.009775   \n",
       "max    58.665504  57.192014  52.177640  52.676973  56.176884  57.464496   \n",
       "\n",
       "            2013       2014       2015       2016       2017       2018  \\\n",
       "count  27.000000  27.000000  15.000000  15.000000  15.000000  15.000000   \n",
       "mean    4.494481   4.810292   8.758272   9.700066  10.527366  10.650850   \n",
       "std    11.731238  12.550716  17.008092  18.753439  20.329520  20.509158   \n",
       "min     0.057641   0.061237   0.959930   1.004577   1.150055   1.222426   \n",
       "25%     0.396649   0.457917   1.776924   1.998988   2.306300   2.423341   \n",
       "50%     1.487427   1.420467   2.916983   3.355031   3.704549   3.848545   \n",
       "75%     2.158043   2.416513   7.064948   8.117809   8.405140   8.661943   \n",
       "max    60.675489  64.938945  68.153674  75.315008  81.868522  82.773156   \n",
       "\n",
       "             Total  \n",
       "count    27.000000  \n",
       "mean     79.506664  \n",
       "std     210.791652  \n",
       "min       0.734127  \n",
       "25%       5.541582  \n",
       "50%      16.519833  \n",
       "75%      42.137817  \n",
       "max    1084.176159  "
      ]
     },
     "execution_count": 77,
     "metadata": {},
     "output_type": "execute_result"
    }
   ],
   "source": [
    "df.describe()"
   ]
  },
  {
   "cell_type": "markdown",
   "metadata": {},
   "source": [
    "Setting the below as index is usefull when using .loc method"
   ]
  },
  {
   "cell_type": "code",
   "execution_count": 78,
   "metadata": {},
   "outputs": [],
   "source": [
    "df.set_index('Origen', inplace=True)"
   ]
  },
  {
   "cell_type": "code",
   "execution_count": 79,
   "metadata": {},
   "outputs": [
    {
     "data": {
      "text/plain": [
       "array(['Total', 'Alemania', 'Austria', 'Bélgica', 'Dinamarca',\n",
       "       'Finlandia', 'Francia', 'Irlanda ', 'Italia', 'Noruega',\n",
       "       'Países Bajos', 'Portugal', 'Reino Unido', 'Suecia', 'Suiza',\n",
       "       'Rusia', 'Resto Europa ', 'EE.UU.', 'Argentina', 'Brasil',\n",
       "       'Canada', 'Chile', 'Mexico', 'Venezuela', 'Otros América', 'Japón',\n",
       "       'Resto Mundo '], dtype=object)"
      ]
     },
     "execution_count": 79,
     "metadata": {},
     "output_type": "execute_result"
    }
   ],
   "source": [
    "df.index.values"
   ]
  },
  {
   "cell_type": "code",
   "execution_count": 80,
   "metadata": {},
   "outputs": [
    {
     "data": {
      "text/html": [
       "<div>\n",
       "<style scoped>\n",
       "    .dataframe tbody tr th:only-of-type {\n",
       "        vertical-align: middle;\n",
       "    }\n",
       "\n",
       "    .dataframe tbody tr th {\n",
       "        vertical-align: top;\n",
       "    }\n",
       "\n",
       "    .dataframe thead th {\n",
       "        text-align: right;\n",
       "    }\n",
       "</style>\n",
       "<table border=\"1\" class=\"dataframe\">\n",
       "  <thead>\n",
       "    <tr style=\"text-align: right;\">\n",
       "      <th></th>\n",
       "      <th>2001</th>\n",
       "      <th>2002</th>\n",
       "      <th>2003</th>\n",
       "      <th>2004</th>\n",
       "      <th>2005</th>\n",
       "      <th>2006</th>\n",
       "      <th>2007</th>\n",
       "      <th>2008</th>\n",
       "      <th>2009</th>\n",
       "      <th>2010</th>\n",
       "      <th>2011</th>\n",
       "      <th>2012</th>\n",
       "      <th>2013</th>\n",
       "      <th>2014</th>\n",
       "      <th>2015</th>\n",
       "      <th>2016</th>\n",
       "      <th>2017</th>\n",
       "      <th>2018</th>\n",
       "      <th>Total</th>\n",
       "    </tr>\n",
       "    <tr>\n",
       "      <th>Origen</th>\n",
       "      <th></th>\n",
       "      <th></th>\n",
       "      <th></th>\n",
       "      <th></th>\n",
       "      <th></th>\n",
       "      <th></th>\n",
       "      <th></th>\n",
       "      <th></th>\n",
       "      <th></th>\n",
       "      <th></th>\n",
       "      <th></th>\n",
       "      <th></th>\n",
       "      <th></th>\n",
       "      <th></th>\n",
       "      <th></th>\n",
       "      <th></th>\n",
       "      <th></th>\n",
       "      <th></th>\n",
       "      <th></th>\n",
       "    </tr>\n",
       "  </thead>\n",
       "  <tbody>\n",
       "    <tr>\n",
       "      <th>Total</th>\n",
       "      <td>48.565344</td>\n",
       "      <td>50.330623</td>\n",
       "      <td>50.853815</td>\n",
       "      <td>52.429832</td>\n",
       "      <td>55.913778</td>\n",
       "      <td>58.004462</td>\n",
       "      <td>58.665504</td>\n",
       "      <td>57.192014</td>\n",
       "      <td>52.177640</td>\n",
       "      <td>52.676973</td>\n",
       "      <td>56.176884</td>\n",
       "      <td>57.464496</td>\n",
       "      <td>60.675489</td>\n",
       "      <td>64.938945</td>\n",
       "      <td>68.153674</td>\n",
       "      <td>75.315008</td>\n",
       "      <td>81.868522</td>\n",
       "      <td>82.773156</td>\n",
       "      <td>1084.176159</td>\n",
       "    </tr>\n",
       "    <tr>\n",
       "      <th>Alemania</th>\n",
       "      <td>10.187614</td>\n",
       "      <td>9.574615</td>\n",
       "      <td>9.303289</td>\n",
       "      <td>9.536621</td>\n",
       "      <td>9.917619</td>\n",
       "      <td>10.139582</td>\n",
       "      <td>10.080606</td>\n",
       "      <td>10.062629</td>\n",
       "      <td>8.935147</td>\n",
       "      <td>8.814070</td>\n",
       "      <td>8.975236</td>\n",
       "      <td>9.318737</td>\n",
       "      <td>9.856687</td>\n",
       "      <td>10.420411</td>\n",
       "      <td>10.249204</td>\n",
       "      <td>11.208656</td>\n",
       "      <td>11.897376</td>\n",
       "      <td>11.414481</td>\n",
       "      <td>179.892580</td>\n",
       "    </tr>\n",
       "    <tr>\n",
       "      <th>Austria</th>\n",
       "      <td>0.397549</td>\n",
       "      <td>0.433599</td>\n",
       "      <td>0.415281</td>\n",
       "      <td>0.413118</td>\n",
       "      <td>0.481852</td>\n",
       "      <td>0.525484</td>\n",
       "      <td>0.489482</td>\n",
       "      <td>0.546060</td>\n",
       "      <td>0.506161</td>\n",
       "      <td>0.561190</td>\n",
       "      <td>0.579430</td>\n",
       "      <td>0.564068</td>\n",
       "      <td>0.568403</td>\n",
       "      <td>0.591458</td>\n",
       "      <td>NaN</td>\n",
       "      <td>NaN</td>\n",
       "      <td>NaN</td>\n",
       "      <td>NaN</td>\n",
       "      <td>7.073135</td>\n",
       "    </tr>\n",
       "    <tr>\n",
       "      <th>Bélgica</th>\n",
       "      <td>1.662930</td>\n",
       "      <td>1.733815</td>\n",
       "      <td>1.761867</td>\n",
       "      <td>1.736388</td>\n",
       "      <td>1.821667</td>\n",
       "      <td>1.820777</td>\n",
       "      <td>1.724409</td>\n",
       "      <td>1.636636</td>\n",
       "      <td>1.599004</td>\n",
       "      <td>1.623375</td>\n",
       "      <td>1.756695</td>\n",
       "      <td>1.701782</td>\n",
       "      <td>1.873388</td>\n",
       "      <td>2.177818</td>\n",
       "      <td>2.257702</td>\n",
       "      <td>2.301628</td>\n",
       "      <td>2.474720</td>\n",
       "      <td>2.500278</td>\n",
       "      <td>34.164879</td>\n",
       "    </tr>\n",
       "    <tr>\n",
       "      <th>Dinamarca</th>\n",
       "      <td>0.632968</td>\n",
       "      <td>0.597670</td>\n",
       "      <td>0.633559</td>\n",
       "      <td>0.693116</td>\n",
       "      <td>0.726899</td>\n",
       "      <td>0.806027</td>\n",
       "      <td>0.932132</td>\n",
       "      <td>0.956546</td>\n",
       "      <td>0.960009</td>\n",
       "      <td>0.937726</td>\n",
       "      <td>0.909515</td>\n",
       "      <td>0.929258</td>\n",
       "      <td>0.984844</td>\n",
       "      <td>1.053936</td>\n",
       "      <td>NaN</td>\n",
       "      <td>NaN</td>\n",
       "      <td>NaN</td>\n",
       "      <td>NaN</td>\n",
       "      <td>11.754205</td>\n",
       "    </tr>\n",
       "  </tbody>\n",
       "</table>\n",
       "</div>"
      ],
      "text/plain": [
       "                2001       2002       2003       2004       2005       2006  \\\n",
       "Origen                                                                        \n",
       "Total      48.565344  50.330623  50.853815  52.429832  55.913778  58.004462   \n",
       "Alemania   10.187614   9.574615   9.303289   9.536621   9.917619  10.139582   \n",
       "Austria     0.397549   0.433599   0.415281   0.413118   0.481852   0.525484   \n",
       "Bélgica     1.662930   1.733815   1.761867   1.736388   1.821667   1.820777   \n",
       "Dinamarca   0.632968   0.597670   0.633559   0.693116   0.726899   0.806027   \n",
       "\n",
       "                2007       2008       2009       2010       2011       2012  \\\n",
       "Origen                                                                        \n",
       "Total      58.665504  57.192014  52.177640  52.676973  56.176884  57.464496   \n",
       "Alemania   10.080606  10.062629   8.935147   8.814070   8.975236   9.318737   \n",
       "Austria     0.489482   0.546060   0.506161   0.561190   0.579430   0.564068   \n",
       "Bélgica     1.724409   1.636636   1.599004   1.623375   1.756695   1.701782   \n",
       "Dinamarca   0.932132   0.956546   0.960009   0.937726   0.909515   0.929258   \n",
       "\n",
       "                2013       2014       2015       2016       2017       2018  \\\n",
       "Origen                                                                        \n",
       "Total      60.675489  64.938945  68.153674  75.315008  81.868522  82.773156   \n",
       "Alemania    9.856687  10.420411  10.249204  11.208656  11.897376  11.414481   \n",
       "Austria     0.568403   0.591458        NaN        NaN        NaN        NaN   \n",
       "Bélgica     1.873388   2.177818   2.257702   2.301628   2.474720   2.500278   \n",
       "Dinamarca   0.984844   1.053936        NaN        NaN        NaN        NaN   \n",
       "\n",
       "                 Total  \n",
       "Origen                  \n",
       "Total      1084.176159  \n",
       "Alemania    179.892580  \n",
       "Austria       7.073135  \n",
       "Bélgica      34.164879  \n",
       "Dinamarca    11.754205  "
      ]
     },
     "execution_count": 80,
     "metadata": {},
     "output_type": "execute_result"
    }
   ],
   "source": [
    "df.head()"
   ]
  },
  {
   "cell_type": "code",
   "execution_count": 81,
   "metadata": {},
   "outputs": [],
   "source": [
    "df.index.name = None"
   ]
  },
  {
   "cell_type": "code",
   "execution_count": 82,
   "metadata": {},
   "outputs": [
    {
     "name": "stdout",
     "output_type": "stream",
     "text": [
      "2001      10.187614\n",
      "2002       9.574615\n",
      "2003       9.303289\n",
      "2004       9.536621\n",
      "2005       9.917619\n",
      "2006      10.139582\n",
      "2007      10.080606\n",
      "2008      10.062629\n",
      "2009       8.935147\n",
      "2010       8.814070\n",
      "2011       8.975236\n",
      "2012       9.318737\n",
      "2013       9.856687\n",
      "2014      10.420411\n",
      "2015      10.249204\n",
      "2016      11.208656\n",
      "2017      11.897376\n",
      "2018      11.414481\n",
      "Total    179.892580\n",
      "Name: Alemania, dtype: float64\n"
     ]
    }
   ],
   "source": [
    "print(df.loc['Alemania'])"
   ]
  },
  {
   "cell_type": "code",
   "execution_count": 83,
   "metadata": {},
   "outputs": [
    {
     "data": {
      "text/plain": [
       "['2001',\n",
       " '2002',\n",
       " '2003',\n",
       " '2004',\n",
       " '2005',\n",
       " '2006',\n",
       " '2007',\n",
       " '2008',\n",
       " '2009',\n",
       " '2010',\n",
       " '2011',\n",
       " '2012',\n",
       " '2013',\n",
       " '2014',\n",
       " '2015',\n",
       " '2016',\n",
       " '2017',\n",
       " '2018']"
      ]
     },
     "execution_count": 83,
     "metadata": {},
     "output_type": "execute_result"
    }
   ],
   "source": [
    "years = list(map(str, range(2001, 2019)))\n",
    "years"
   ]
  },
  {
   "cell_type": "code",
   "execution_count": 92,
   "metadata": {},
   "outputs": [
    {
     "data": {
      "text/plain": [
       "2001    13.309319\n",
       "2002    13.846376\n",
       "2003    15.224026\n",
       "2004    15.629226\n",
       "2005    16.090030\n",
       "Name: Reino Unido, dtype: float64"
      ]
     },
     "execution_count": 92,
     "metadata": {},
     "output_type": "execute_result"
    }
   ],
   "source": [
    "#defining variables for countries to be plotted\n",
    "UK = df.loc[\"Reino Unido\",years]\n",
    "Germany = df.loc[\"Alemania\",years]\n",
    "France = df.loc[\"Francia\",years]\n",
    "Italy = df.loc[\"Italia\",years]\n",
    "Netherlands = df.loc[\"Países Bajos\",years]\n",
    "Total = df.loc[\"Total\", years]\n",
    "\n",
    "#checking head of one of the variables\n",
    "UK.head()"
   ]
  },
  {
   "cell_type": "code",
   "execution_count": 93,
   "metadata": {},
   "outputs": [],
   "source": [
    "#defining a function for easier plotting of countries\n",
    "def plot_country(country, title):\n",
    "    country.index = country.index.map(int) # Change the index values to type integer for plotting\n",
    "    \n",
    "    fig, ax = plt.subplots()\n",
    "    \n",
    "    ax.set_title(title) #title to be changed\n",
    "    ax.set_ylabel(\"Number of tourist (in millions)\")\n",
    "    ax.set_xlabel(\"Years\")\n",
    "    country.plot(kind='line')\n",
    "    plt.show()"
   ]
  },
  {
   "cell_type": "code",
   "execution_count": 94,
   "metadata": {},
   "outputs": [
    {
     "data": {
      "image/png": "[encoded data removed]",
      "text/plain": [
       "<Figure size 432x288 with 1 Axes>"
      ]
     },
     "metadata": {
      "needs_background": "light"
     },
     "output_type": "display_data"
    }
   ],
   "source": [
    "title = \"Tourism from United Kingdom\"\n",
    "plot_country(UK, title)"
   ]
  },
  {
   "cell_type": "code",
   "execution_count": 95,
   "metadata": {},
   "outputs": [
    {
     "data": {
      "image/png": "[encoded data removed]",
      "text/plain": [
       "<Figure size 432x288 with 1 Axes>"
      ]
     },
     "metadata": {
      "needs_background": "light"
     },
     "output_type": "display_data"
    }
   ],
   "source": [
    "title = \"Tourism from Germany\"\n",
    "plot_country(Germany, title)"
   ]
  },
  {
   "cell_type": "code",
   "execution_count": 96,
   "metadata": {},
   "outputs": [
    {
     "data": {
      "image/png": "[encoded data removed]",
      "text/plain": [
       "<Figure size 432x288 with 1 Axes>"
      ]
     },
     "metadata": {
      "needs_background": "light"
     },
     "output_type": "display_data"
    }
   ],
   "source": [
    "title = \"Tourism from France\"\n",
    "plot_country(France, title)"
   ]
  },
  {
   "cell_type": "code",
   "execution_count": 97,
   "metadata": {},
   "outputs": [
    {
     "data": {
      "image/png": "[encoded data removed]",
      "text/plain": [
       "<Figure size 432x288 with 1 Axes>"
      ]
     },
     "metadata": {
      "needs_background": "light"
     },
     "output_type": "display_data"
    }
   ],
   "source": [
    "title = \"Tourism from Italy\"\n",
    "plot_country(Italy, title)"
   ]
  },
  {
   "cell_type": "code",
   "execution_count": 98,
   "metadata": {},
   "outputs": [
    {
     "data": {
      "image/png": "[encoded data removed]",
      "text/plain": [
       "<Figure size 432x288 with 1 Axes>"
      ]
     },
     "metadata": {
      "needs_background": "light"
     },
     "output_type": "display_data"
    }
   ],
   "source": [
    "title = \"Tourism from Netherlands\"\n",
    "plot_country(Netherlands, title)"
   ]
  },
  {
   "cell_type": "code",
   "execution_count": 99,
   "metadata": {},
   "outputs": [
    {
     "data": {
      "image/png": "[encoded data removed]",
      "text/plain": [
       "<Figure size 432x288 with 1 Axes>"
      ]
     },
     "metadata": {
      "needs_background": "light"
     },
     "output_type": "display_data"
    }
   ],
   "source": [
    "title = \"Total foreign Tourism in Spain\"\n",
    "plot_country(Total, title)"
   ]
  },
  {
   "cell_type": "code",
   "execution_count": 28,
   "metadata": {},
   "outputs": [],
   "source": [
    "df_test= df.drop(['Total', 'Resto Europa '], axis=0)\n",
    "#df_test['Total'] = df_test.sum(axis=1)"
   ]
  },
  {
   "cell_type": "code",
   "execution_count": 29,
   "metadata": {},
   "outputs": [
    {
     "data": {
      "text/html": [
       "<div>\n",
       "<style scoped>\n",
       "    .dataframe tbody tr th:only-of-type {\n",
       "        vertical-align: middle;\n",
       "    }\n",
       "\n",
       "    .dataframe tbody tr th {\n",
       "        vertical-align: top;\n",
       "    }\n",
       "\n",
       "    .dataframe thead th {\n",
       "        text-align: right;\n",
       "    }\n",
       "</style>\n",
       "<table border=\"1\" class=\"dataframe\">\n",
       "  <thead>\n",
       "    <tr style=\"text-align: right;\">\n",
       "      <th></th>\n",
       "      <th>2001</th>\n",
       "      <th>2002</th>\n",
       "      <th>2003</th>\n",
       "      <th>2004</th>\n",
       "      <th>2005</th>\n",
       "      <th>2006</th>\n",
       "      <th>2007</th>\n",
       "      <th>2008</th>\n",
       "      <th>2009</th>\n",
       "      <th>2010</th>\n",
       "      <th>2011</th>\n",
       "      <th>2012</th>\n",
       "      <th>2013</th>\n",
       "      <th>2014</th>\n",
       "      <th>2015</th>\n",
       "      <th>2016</th>\n",
       "      <th>2017</th>\n",
       "      <th>2018</th>\n",
       "      <th>Total</th>\n",
       "    </tr>\n",
       "  </thead>\n",
       "  <tbody>\n",
       "    <tr>\n",
       "      <th>Alemania</th>\n",
       "      <td>10.187614</td>\n",
       "      <td>9.574615</td>\n",
       "      <td>9.303289</td>\n",
       "      <td>9.536621</td>\n",
       "      <td>9.917619</td>\n",
       "      <td>10.139582</td>\n",
       "      <td>10.080606</td>\n",
       "      <td>10.062629</td>\n",
       "      <td>8.935147</td>\n",
       "      <td>8.814070</td>\n",
       "      <td>8.975236</td>\n",
       "      <td>9.318737</td>\n",
       "      <td>9.856687</td>\n",
       "      <td>10.420411</td>\n",
       "      <td>10.249204</td>\n",
       "      <td>11.208656</td>\n",
       "      <td>11.897376</td>\n",
       "      <td>11.414481</td>\n",
       "      <td>179.892580</td>\n",
       "    </tr>\n",
       "    <tr>\n",
       "      <th>Austria</th>\n",
       "      <td>0.397549</td>\n",
       "      <td>0.433599</td>\n",
       "      <td>0.415281</td>\n",
       "      <td>0.413118</td>\n",
       "      <td>0.481852</td>\n",
       "      <td>0.525484</td>\n",
       "      <td>0.489482</td>\n",
       "      <td>0.546060</td>\n",
       "      <td>0.506161</td>\n",
       "      <td>0.561190</td>\n",
       "      <td>0.579430</td>\n",
       "      <td>0.564068</td>\n",
       "      <td>0.568403</td>\n",
       "      <td>0.591458</td>\n",
       "      <td>NaN</td>\n",
       "      <td>NaN</td>\n",
       "      <td>NaN</td>\n",
       "      <td>NaN</td>\n",
       "      <td>7.073135</td>\n",
       "    </tr>\n",
       "    <tr>\n",
       "      <th>Bélgica</th>\n",
       "      <td>1.662930</td>\n",
       "      <td>1.733815</td>\n",
       "      <td>1.761867</td>\n",
       "      <td>1.736388</td>\n",
       "      <td>1.821667</td>\n",
       "      <td>1.820777</td>\n",
       "      <td>1.724409</td>\n",
       "      <td>1.636636</td>\n",
       "      <td>1.599004</td>\n",
       "      <td>1.623375</td>\n",
       "      <td>1.756695</td>\n",
       "      <td>1.701782</td>\n",
       "      <td>1.873388</td>\n",
       "      <td>2.177818</td>\n",
       "      <td>2.257702</td>\n",
       "      <td>2.301628</td>\n",
       "      <td>2.474720</td>\n",
       "      <td>2.500278</td>\n",
       "      <td>34.164879</td>\n",
       "    </tr>\n",
       "    <tr>\n",
       "      <th>Dinamarca</th>\n",
       "      <td>0.632968</td>\n",
       "      <td>0.597670</td>\n",
       "      <td>0.633559</td>\n",
       "      <td>0.693116</td>\n",
       "      <td>0.726899</td>\n",
       "      <td>0.806027</td>\n",
       "      <td>0.932132</td>\n",
       "      <td>0.956546</td>\n",
       "      <td>0.960009</td>\n",
       "      <td>0.937726</td>\n",
       "      <td>0.909515</td>\n",
       "      <td>0.929258</td>\n",
       "      <td>0.984844</td>\n",
       "      <td>1.053936</td>\n",
       "      <td>NaN</td>\n",
       "      <td>NaN</td>\n",
       "      <td>NaN</td>\n",
       "      <td>NaN</td>\n",
       "      <td>11.754205</td>\n",
       "    </tr>\n",
       "    <tr>\n",
       "      <th>Finlandia</th>\n",
       "      <td>0.412637</td>\n",
       "      <td>0.403940</td>\n",
       "      <td>0.381436</td>\n",
       "      <td>0.417617</td>\n",
       "      <td>0.435747</td>\n",
       "      <td>0.473820</td>\n",
       "      <td>0.512922</td>\n",
       "      <td>0.509103</td>\n",
       "      <td>0.517203</td>\n",
       "      <td>0.507161</td>\n",
       "      <td>0.574039</td>\n",
       "      <td>0.581777</td>\n",
       "      <td>0.657057</td>\n",
       "      <td>0.682876</td>\n",
       "      <td>NaN</td>\n",
       "      <td>NaN</td>\n",
       "      <td>NaN</td>\n",
       "      <td>NaN</td>\n",
       "      <td>7.067335</td>\n",
       "    </tr>\n",
       "  </tbody>\n",
       "</table>\n",
       "</div>"
      ],
      "text/plain": [
       "                2001      2002      2003      2004      2005       2006  \\\n",
       "Alemania   10.187614  9.574615  9.303289  9.536621  9.917619  10.139582   \n",
       "Austria     0.397549  0.433599  0.415281  0.413118  0.481852   0.525484   \n",
       "Bélgica     1.662930  1.733815  1.761867  1.736388  1.821667   1.820777   \n",
       "Dinamarca   0.632968  0.597670  0.633559  0.693116  0.726899   0.806027   \n",
       "Finlandia   0.412637  0.403940  0.381436  0.417617  0.435747   0.473820   \n",
       "\n",
       "                2007       2008      2009      2010      2011      2012  \\\n",
       "Alemania   10.080606  10.062629  8.935147  8.814070  8.975236  9.318737   \n",
       "Austria     0.489482   0.546060  0.506161  0.561190  0.579430  0.564068   \n",
       "Bélgica     1.724409   1.636636  1.599004  1.623375  1.756695  1.701782   \n",
       "Dinamarca   0.932132   0.956546  0.960009  0.937726  0.909515  0.929258   \n",
       "Finlandia   0.512922   0.509103  0.517203  0.507161  0.574039  0.581777   \n",
       "\n",
       "               2013       2014       2015       2016       2017       2018  \\\n",
       "Alemania   9.856687  10.420411  10.249204  11.208656  11.897376  11.414481   \n",
       "Austria    0.568403   0.591458        NaN        NaN        NaN        NaN   \n",
       "Bélgica    1.873388   2.177818   2.257702   2.301628   2.474720   2.500278   \n",
       "Dinamarca  0.984844   1.053936        NaN        NaN        NaN        NaN   \n",
       "Finlandia  0.657057   0.682876        NaN        NaN        NaN        NaN   \n",
       "\n",
       "                Total  \n",
       "Alemania   179.892580  \n",
       "Austria      7.073135  \n",
       "Bélgica     34.164879  \n",
       "Dinamarca   11.754205  \n",
       "Finlandia    7.067335  "
      ]
     },
     "execution_count": 29,
     "metadata": {},
     "output_type": "execute_result"
    }
   ],
   "source": [
    "df_test.head()"
   ]
  },
  {
   "cell_type": "code",
   "execution_count": 30,
   "metadata": {},
   "outputs": [
    {
     "data": {
      "text/html": [
       "<div>\n",
       "<style scoped>\n",
       "    .dataframe tbody tr th:only-of-type {\n",
       "        vertical-align: middle;\n",
       "    }\n",
       "\n",
       "    .dataframe tbody tr th {\n",
       "        vertical-align: top;\n",
       "    }\n",
       "\n",
       "    .dataframe thead th {\n",
       "        text-align: right;\n",
       "    }\n",
       "</style>\n",
       "<table border=\"1\" class=\"dataframe\">\n",
       "  <thead>\n",
       "    <tr style=\"text-align: right;\">\n",
       "      <th></th>\n",
       "      <th>Reino Unido</th>\n",
       "      <th>Alemania</th>\n",
       "      <th>Francia</th>\n",
       "      <th>Italia</th>\n",
       "      <th>Países Bajos</th>\n",
       "    </tr>\n",
       "  </thead>\n",
       "  <tbody>\n",
       "    <tr>\n",
       "      <th>2001</th>\n",
       "      <td>13.309319</td>\n",
       "      <td>10.187614</td>\n",
       "      <td>6.791089</td>\n",
       "      <td>2.436022</td>\n",
       "      <td>2.069590</td>\n",
       "    </tr>\n",
       "    <tr>\n",
       "      <th>2002</th>\n",
       "      <td>13.846376</td>\n",
       "      <td>9.574615</td>\n",
       "      <td>8.070233</td>\n",
       "      <td>2.623167</td>\n",
       "      <td>2.341723</td>\n",
       "    </tr>\n",
       "    <tr>\n",
       "      <th>2003</th>\n",
       "      <td>15.224026</td>\n",
       "      <td>9.303289</td>\n",
       "      <td>7.959196</td>\n",
       "      <td>2.433979</td>\n",
       "      <td>2.347875</td>\n",
       "    </tr>\n",
       "    <tr>\n",
       "      <th>2004</th>\n",
       "      <td>15.629226</td>\n",
       "      <td>9.536621</td>\n",
       "      <td>7.735762</td>\n",
       "      <td>2.800709</td>\n",
       "      <td>2.301252</td>\n",
       "    </tr>\n",
       "    <tr>\n",
       "      <th>2005</th>\n",
       "      <td>16.090030</td>\n",
       "      <td>9.917619</td>\n",
       "      <td>8.874747</td>\n",
       "      <td>2.956891</td>\n",
       "      <td>2.434990</td>\n",
       "    </tr>\n",
       "  </tbody>\n",
       "</table>\n",
       "</div>"
      ],
      "text/plain": [
       "      Reino Unido   Alemania   Francia    Italia  Países Bajos\n",
       "2001    13.309319  10.187614  6.791089  2.436022      2.069590\n",
       "2002    13.846376   9.574615  8.070233  2.623167      2.341723\n",
       "2003    15.224026   9.303289  7.959196  2.433979      2.347875\n",
       "2004    15.629226   9.536621  7.735762  2.800709      2.301252\n",
       "2005    16.090030   9.917619  8.874747  2.956891      2.434990"
      ]
     },
     "execution_count": 30,
     "metadata": {},
     "output_type": "execute_result"
    }
   ],
   "source": [
    "df_test.sort_values(['Total'], ascending=False, axis=0, inplace=True)\n",
    "df_top5 = df_test.head()\n",
    "df_top5 = df_top5[years].transpose()\n",
    "df_top5.head()"
   ]
  },
  {
   "cell_type": "code",
   "execution_count": 31,
   "metadata": {},
   "outputs": [
    {
     "data": {
      "image/png": "[encoded data removed]",
      "text/plain": [
       "<Figure size 1440x720 with 1 Axes>"
      ]
     },
     "metadata": {
      "needs_background": "light"
     },
     "output_type": "display_data"
    }
   ],
   "source": [
    "df_top5.index = df_top5.index.map(int) # let's change the index values of df_top5 to type integer for plotting\n",
    "ax = df_top5.plot(kind='area', \n",
    "             alpha = 0.7,\n",
    "             stacked=False,\n",
    "             figsize=(20, 10), # pass a tuple (x, y) size\n",
    "             )\n",
    "\n",
    "ax.set_title('Tourism Trend of Top 5 Countries (in millions)')\n",
    "ax.set_ylabel('Number of Tourist')\n",
    "ax.set_xlabel('Years')\n",
    "\n",
    "plt.show()"
   ]
  },
  {
   "cell_type": "code",
   "execution_count": 32,
   "metadata": {},
   "outputs": [
    {
     "name": "stdout",
     "output_type": "stream",
     "text": [
      "[23  2  1  0  0  0  0  0  0  1]\n",
      "[5.76410000e-02 6.11942580e+00 1.21812106e+01 1.82429954e+01\n",
      " 2.43047802e+01 3.03665650e+01 3.64283498e+01 4.24901346e+01\n",
      " 4.85519194e+01 5.46137042e+01 6.06754890e+01]\n"
     ]
    }
   ],
   "source": [
    "# np.histogram returns 2 values\n",
    "count, bin_edges = np.histogram(df['2013'])\n",
    "\n",
    "print(count) # frequency count\n",
    "print(bin_edges) # bin ranges, default = 10 bins"
   ]
  },
  {
   "cell_type": "code",
   "execution_count": 33,
   "metadata": {},
   "outputs": [
    {
     "data": {
      "text/plain": [
       "<matplotlib.axes._subplots.AxesSubplot at 0x9005208>"
      ]
     },
     "execution_count": 33,
     "metadata": {},
     "output_type": "execute_result"
    },
    {
     "data": {
      "image/png": "[encoded data removed]",
      "text/plain": [
       "<Figure size 720x432 with 1 Axes>"
      ]
     },
     "metadata": {
      "needs_background": "light"
     },
     "output_type": "display_data"
    }
   ],
   "source": [
    "fig, ax = plt.subplots()\n",
    "\n",
    "ax.set_title('Tourism from Germany')\n",
    "ax.set_ylabel('Number of tourist')\n",
    "ax.set_xlabel('Years')\n",
    "Alemania.plot(kind='bar', figsize = (10,6))"
   ]
  },
  {
   "cell_type": "code",
   "execution_count": 34,
   "metadata": {},
   "outputs": [
    {
     "data": {
      "text/html": [
       "<div>\n",
       "<style scoped>\n",
       "    .dataframe tbody tr th:only-of-type {\n",
       "        vertical-align: middle;\n",
       "    }\n",
       "\n",
       "    .dataframe tbody tr th {\n",
       "        vertical-align: top;\n",
       "    }\n",
       "\n",
       "    .dataframe thead th {\n",
       "        text-align: right;\n",
       "    }\n",
       "</style>\n",
       "<table border=\"1\" class=\"dataframe\">\n",
       "  <thead>\n",
       "    <tr style=\"text-align: right;\">\n",
       "      <th></th>\n",
       "      <th>Alemania</th>\n",
       "      <th>Francia</th>\n",
       "    </tr>\n",
       "  </thead>\n",
       "  <tbody>\n",
       "    <tr>\n",
       "      <th>2001</th>\n",
       "      <td>10.187614</td>\n",
       "      <td>6.791089</td>\n",
       "    </tr>\n",
       "    <tr>\n",
       "      <th>2002</th>\n",
       "      <td>9.574615</td>\n",
       "      <td>8.070233</td>\n",
       "    </tr>\n",
       "    <tr>\n",
       "      <th>2003</th>\n",
       "      <td>9.303289</td>\n",
       "      <td>7.959196</td>\n",
       "    </tr>\n",
       "    <tr>\n",
       "      <th>2004</th>\n",
       "      <td>9.536621</td>\n",
       "      <td>7.735762</td>\n",
       "    </tr>\n",
       "    <tr>\n",
       "      <th>2005</th>\n",
       "      <td>9.917619</td>\n",
       "      <td>8.874747</td>\n",
       "    </tr>\n",
       "  </tbody>\n",
       "</table>\n",
       "</div>"
      ],
      "text/plain": [
       "       Alemania   Francia\n",
       "2001  10.187614  6.791089\n",
       "2002   9.574615  8.070233\n",
       "2003   9.303289  7.959196\n",
       "2004   9.536621  7.735762\n",
       "2005   9.917619  8.874747"
      ]
     },
     "execution_count": 34,
     "metadata": {},
     "output_type": "execute_result"
    }
   ],
   "source": [
    "df_FA=df.loc[[\"Alemania\", \"Francia\"],years].transpose()\n",
    "df_FA.head()"
   ]
  },
  {
   "cell_type": "code",
   "execution_count": 35,
   "metadata": {},
   "outputs": [
    {
     "data": {
      "image/png": "[encoded data removed]",
      "text/plain": [
       "<Figure size 1440x432 with 2 Axes>"
      ]
     },
     "metadata": {
      "needs_background": "light"
     },
     "output_type": "display_data"
    }
   ],
   "source": [
    "fig = plt.figure() # create figure\n",
    "\n",
    "ax0 = fig.add_subplot(1, 2, 1) # add subplot 1 (1 row, 2 columns, first plot)\n",
    "ax1 = fig.add_subplot(1, 2, 2) # add subplot 2 (1 row, 2 columns, second plot). See tip below**\n",
    "\n",
    "# Subplot 1: Box plot\n",
    "df_FA.plot(kind='box', color='blue', vert=False, figsize=(20, 6), ax=ax0) # add to subplot 1\n",
    "ax0.set_title('Box plots of Tourist from Germany and France (2001 - 2018)')\n",
    "ax0.set_xlabel('Number of Tourists')\n",
    "ax0.set_ylabel('Countries')\n",
    "\n",
    "# Subplot 2: Line plot\n",
    "df_FA.plot(kind='line', figsize=(20, 6), ax=ax1) # add to subplot 2\n",
    "ax1.set_title ('Line Plots of Tourist from Germany and France (2001 - 2018)')\n",
    "ax1.set_ylabel('Number of Tourists')\n",
    "ax1.set_xlabel('Years')\n",
    "\n",
    "plt.show()"
   ]
  },
  {
   "cell_type": "code",
   "execution_count": 36,
   "metadata": {},
   "outputs": [
    {
     "data": {
      "text/html": [
       "<div>\n",
       "<style scoped>\n",
       "    .dataframe tbody tr th:only-of-type {\n",
       "        vertical-align: middle;\n",
       "    }\n",
       "\n",
       "    .dataframe tbody tr th {\n",
       "        vertical-align: top;\n",
       "    }\n",
       "\n",
       "    .dataframe thead th {\n",
       "        text-align: right;\n",
       "    }\n",
       "</style>\n",
       "<table border=\"1\" class=\"dataframe\">\n",
       "  <thead>\n",
       "    <tr style=\"text-align: right;\">\n",
       "      <th></th>\n",
       "      <th>Total</th>\n",
       "    </tr>\n",
       "  </thead>\n",
       "  <tbody>\n",
       "    <tr>\n",
       "      <th>2001</th>\n",
       "      <td>48.565344</td>\n",
       "    </tr>\n",
       "    <tr>\n",
       "      <th>2002</th>\n",
       "      <td>50.330623</td>\n",
       "    </tr>\n",
       "    <tr>\n",
       "      <th>2003</th>\n",
       "      <td>50.853815</td>\n",
       "    </tr>\n",
       "    <tr>\n",
       "      <th>2004</th>\n",
       "      <td>52.429832</td>\n",
       "    </tr>\n",
       "    <tr>\n",
       "      <th>2005</th>\n",
       "      <td>55.913778</td>\n",
       "    </tr>\n",
       "  </tbody>\n",
       "</table>\n",
       "</div>"
      ],
      "text/plain": [
       "          Total\n",
       "2001  48.565344\n",
       "2002  50.330623\n",
       "2003  50.853815\n",
       "2004  52.429832\n",
       "2005  55.913778"
      ]
     },
     "execution_count": 36,
     "metadata": {},
     "output_type": "execute_result"
    }
   ],
   "source": [
    "df_tot=df.loc[[\"Total\"],years].transpose()\n",
    "df_tot.head()"
   ]
  },
  {
   "cell_type": "code",
   "execution_count": 37,
   "metadata": {},
   "outputs": [
    {
     "data": {
      "image/png": "[encoded data removed]",
      "text/plain": [
       "<Figure size 576x432 with 1 Axes>"
      ]
     },
     "metadata": {
      "needs_background": "light"
     },
     "output_type": "display_data"
    }
   ],
   "source": [
    "Total.index = Total.index.map(int)\n",
    "\n",
    "df_tot.plot(kind='box', figsize=(8, 6))#, x=\"Total\", y='years', figsize=(10, 6), color='darkblue')\n",
    "\n",
    "plt.title('Total Tourism in Spain from 2001 - 2018')\n",
    "plt.ylabel('Number of Tourists (in millions)')\n",
    "\n",
    "plt.show()"
   ]
  },
  {
   "cell_type": "code",
   "execution_count": 38,
   "metadata": {},
   "outputs": [
    {
     "data": {
      "text/html": [
       "<div>\n",
       "<style scoped>\n",
       "    .dataframe tbody tr th:only-of-type {\n",
       "        vertical-align: middle;\n",
       "    }\n",
       "\n",
       "    .dataframe tbody tr th {\n",
       "        vertical-align: top;\n",
       "    }\n",
       "\n",
       "    .dataframe thead th {\n",
       "        text-align: right;\n",
       "    }\n",
       "</style>\n",
       "<table border=\"1\" class=\"dataframe\">\n",
       "  <thead>\n",
       "    <tr style=\"text-align: right;\">\n",
       "      <th></th>\n",
       "      <th>year</th>\n",
       "      <th>Total</th>\n",
       "    </tr>\n",
       "  </thead>\n",
       "  <tbody>\n",
       "    <tr>\n",
       "      <th>0</th>\n",
       "      <td>2001</td>\n",
       "      <td>48.565344</td>\n",
       "    </tr>\n",
       "    <tr>\n",
       "      <th>1</th>\n",
       "      <td>2002</td>\n",
       "      <td>50.330623</td>\n",
       "    </tr>\n",
       "    <tr>\n",
       "      <th>2</th>\n",
       "      <td>2003</td>\n",
       "      <td>50.853815</td>\n",
       "    </tr>\n",
       "    <tr>\n",
       "      <th>3</th>\n",
       "      <td>2004</td>\n",
       "      <td>52.429832</td>\n",
       "    </tr>\n",
       "    <tr>\n",
       "      <th>4</th>\n",
       "      <td>2005</td>\n",
       "      <td>55.913778</td>\n",
       "    </tr>\n",
       "  </tbody>\n",
       "</table>\n",
       "</div>"
      ],
      "text/plain": [
       "   year      Total\n",
       "0  2001  48.565344\n",
       "1  2002  50.330623\n",
       "2  2003  50.853815\n",
       "3  2004  52.429832\n",
       "4  2005  55.913778"
      ]
     },
     "execution_count": 38,
     "metadata": {},
     "output_type": "execute_result"
    }
   ],
   "source": [
    "df_tot.index = map(int, df_tot.index)\n",
    "df_tot.reset_index(inplace = True)\n",
    "df_tot.rename(columns = {\"index\":\"year\"}, inplace = True)\n",
    "df_tot.head()"
   ]
  },
  {
   "cell_type": "code",
   "execution_count": 39,
   "metadata": {},
   "outputs": [
    {
     "data": {
      "image/png": "[encoded data removed]",
      "text/plain": [
       "<Figure size 720x432 with 1 Axes>"
      ]
     },
     "metadata": {
      "needs_background": "light"
     },
     "output_type": "display_data"
    }
   ],
   "source": [
    "df_tot.plot(kind='scatter', x='year', y='Total', figsize=(10, 6), color='darkblue')\n",
    "\n",
    "plt.title('Total Tourism in Spain from 2001 - 2018')\n",
    "plt.xlabel('Year')\n",
    "plt.ylabel('Number of Tourists')\n",
    "\n",
    "plt.show()"
   ]
  },
  {
   "cell_type": "code",
   "execution_count": 40,
   "metadata": {},
   "outputs": [
    {
     "data": {
      "text/plain": [
       "array([ 1.68929995e+00, -3.33441625e+03])"
      ]
     },
     "execution_count": 40,
     "metadata": {},
     "output_type": "execute_result"
    }
   ],
   "source": [
    "x = df_tot['year']      # year on x-axis\n",
    "y = df_tot['Total']     # total on y-axis\n",
    "fit = np.polyfit(x, y, deg=1)\n",
    "\n",
    "fit"
   ]
  },
  {
   "cell_type": "code",
   "execution_count": 41,
   "metadata": {},
   "outputs": [
    {
     "data": {
      "image/png": "[encoded data removed]",
      "text/plain": [
       "<Figure size 576x288 with 1 Axes>"
      ]
     },
     "metadata": {
      "needs_background": "light"
     },
     "output_type": "display_data"
    }
   ],
   "source": [
    "df_tot.plot(kind='scatter', x='year', y='Total', figsize=(8, 4), color='darkblue')\n",
    "\n",
    "plt.title('Total Tourism in Spain from 2001 - 2018')\n",
    "plt.xlabel('Year')\n",
    "plt.ylabel('Number of Tourists')\n",
    "\n",
    "# plot line of best fit\n",
    "plt.plot(x, fit[0] * x + fit[1], color='red') # recall that x is the Years\n",
    "plt.annotate('y={0:.0f} x + {1:.0f}'.format(fit[0], fit[1]), xy=(2005, 70))\n",
    "\n",
    "plt.show()"
   ]
  },
  {
   "cell_type": "code",
   "execution_count": null,
   "metadata": {},
   "outputs": [],
   "source": []
  }
 ],
 "metadata": {
  "kernelspec": {
   "display_name": "Python 3",
   "language": "python",
   "name": "python3"
  },
  "language_info": {
   "codemirror_mode": {
    "name": "ipython",
    "version": 3
   },
   "file_extension": ".py",
   "mimetype": "text/x-python",
   "name": "python",
   "nbconvert_exporter": "python",
   "pygments_lexer": "ipython3",
   "version": "3.7.0"
  }
 },
 "nbformat": 4,
 "nbformat_minor": 2
}
