{
 "cells": [
  {
   "cell_type": "markdown",
   "metadata": {},
   "source": [
    "# Find the Flag\n",
    "We’ll use decision trees to try to predict the continent of flags based on several features like colors and shapes.\n",
    "We’ll explore which features are the best to use and the best way to create your decision tree.\n",
    "\n",
    "The description of the data can be found at [UCI Learning Repository](http://archive.ics.uci.edu/ml/datasets/Flags)"
   ]
  },
  {
   "cell_type": "code",
   "execution_count": 122,
   "metadata": {},
   "outputs": [],
   "source": [
    "# import libraries\n",
    "import pandas as pd\n",
    "from sklearn.model_selection import train_test_split\n",
    "from sklearn.tree import DecisionTreeClassifier\n",
    "import matplotlib.pyplot as plt"
   ]
  },
  {
   "cell_type": "code",
   "execution_count": 123,
   "metadata": {},
   "outputs": [],
   "source": [
    "#load dataset\n",
    "flags = pd.read_csv(\"flags.csv\", header = 0)"
   ]
  },
  {
   "cell_type": "code",
   "execution_count": 124,
   "metadata": {},
   "outputs": [
    {
     "name": "stdout",
     "output_type": "stream",
     "text": [
      "Index(['Name', 'Landmass', 'Zone', 'Area', 'Population', 'Language',\n",
      "       'Religion', 'Bars', 'Stripes', 'Colors', 'Red', 'Green', 'Blue', 'Gold',\n",
      "       'White', 'Black', 'Orange', 'Mainhue', 'Circles', 'Crosses', 'Saltires',\n",
      "       'Quarters', 'Sunstars', 'Crescent', 'Triangle', 'Icon', 'Animate',\n",
      "       'Text', 'Topleft', 'Botright'],\n",
      "      dtype='object')\n"
     ]
    }
   ],
   "source": [
    "#check name of the columns\n",
    "print(flags.columns)"
   ]
  },
  {
   "cell_type": "code",
   "execution_count": 125,
   "metadata": {},
   "outputs": [
    {
     "name": "stdout",
     "output_type": "stream",
     "text": [
      "             Name  Landmass  Zone  Area  Population  Language  Religion  Bars  \\\n",
      "0     Afghanistan         5     1   648          16        10         2     0   \n",
      "1         Albania         3     1    29           3         6         6     0   \n",
      "2         Algeria         4     1  2388          20         8         2     2   \n",
      "3  American-Samoa         6     3     0           0         1         1     0   \n",
      "4         Andorra         3     1     0           0         6         0     3   \n",
      "\n",
      "   Stripes  Colors    ...     Saltires  Quarters  Sunstars  Crescent  \\\n",
      "0        3       5    ...            0         0         1         0   \n",
      "1        0       3    ...            0         0         1         0   \n",
      "2        0       3    ...            0         0         1         1   \n",
      "3        0       5    ...            0         0         0         0   \n",
      "4        0       3    ...            0         0         0         0   \n",
      "\n",
      "   Triangle  Icon  Animate Text  Topleft  Botright  \n",
      "0         0     1        0    0    black     green  \n",
      "1         0     0        1    0      red       red  \n",
      "2         0     0        0    0    green     white  \n",
      "3         1     1        1    0     blue       red  \n",
      "4         0     0        0    0     blue       red  \n",
      "\n",
      "[5 rows x 30 columns]\n"
     ]
    }
   ],
   "source": [
    "#check first few rows\n",
    "print(flags.head())"
   ]
  },
  {
   "cell_type": "markdown",
   "metadata": {},
   "source": [
    "### Creating Your Data and Labels\n",
    "We’re eventually going to use create a decision tree to classify what Landmass a country is on."
   ]
  },
  {
   "cell_type": "code",
   "execution_count": 126,
   "metadata": {},
   "outputs": [],
   "source": [
    "#labels will be the column \"landmass\"\n",
    "labels = flags[[\"Landmass\"]]"
   ]
  },
  {
   "cell_type": "markdown",
   "metadata": {},
   "source": [
    "Now we want to choose which columns will help our decision tree correctly classify those labels. For now, we will see if we can predict were a country is based only only on the colors and its flag."
   ]
  },
  {
   "cell_type": "code",
   "execution_count": 127,
   "metadata": {},
   "outputs": [],
   "source": [
    "data = flags[[\"Red\",\n",
    "              \"Green\",\n",
    "              \"Blue\",\n",
    "              \"Gold\",\n",
    "              \"White\",\n",
    "              \"Black\",\n",
    "              \"Orange\"]]"
   ]
  },
  {
   "cell_type": "code",
   "execution_count": 128,
   "metadata": {},
   "outputs": [],
   "source": [
    "#Split the datagrame using data and labels as parameter\n",
    "train_data, test_data, train_labels, test_labels = train_test_split(data, labels, random_state = 1)"
   ]
  },
  {
   "cell_type": "markdown",
   "metadata": {},
   "source": [
    "### Make and Test the Model"
   ]
  },
  {
   "cell_type": "code",
   "execution_count": 129,
   "metadata": {},
   "outputs": [],
   "source": [
    "#create decision tree classifier\n",
    "tree = DecisionTreeClassifier(random_state = 1)"
   ]
  },
  {
   "cell_type": "code",
   "execution_count": 130,
   "metadata": {},
   "outputs": [
    {
     "data": {
      "text/plain": [
       "DecisionTreeClassifier(class_weight=None, criterion='gini', max_depth=None,\n",
       "            max_features=None, max_leaf_nodes=None,\n",
       "            min_impurity_decrease=0.0, min_impurity_split=None,\n",
       "            min_samples_leaf=1, min_samples_split=2,\n",
       "            min_weight_fraction_leaf=0.0, presort=False, random_state=1,\n",
       "            splitter='best')"
      ]
     },
     "execution_count": 130,
     "metadata": {},
     "output_type": "execute_result"
    }
   ],
   "source": [
    "# train the model\n",
    "tree.fit(train_data, train_labels )"
   ]
  },
  {
   "cell_type": "markdown",
   "metadata": {},
   "source": [
    "Since there are six possible landmasses, if we randomly guessed, we’d expect to be right about 16% of the time. Did our decision tree beat randomly guessing?"
   ]
  },
  {
   "cell_type": "code",
   "execution_count": 131,
   "metadata": {},
   "outputs": [
    {
     "data": {
      "text/plain": [
       "0.3469387755102041"
      ]
     },
     "execution_count": 131,
     "metadata": {},
     "output_type": "execute_result"
    }
   ],
   "source": [
    "tree.score(test_data, test_labels)"
   ]
  },
  {
   "cell_type": "markdown",
   "metadata": {},
   "source": [
    "The answer is yes, but it is still poor. So we will try to tune our model"
   ]
  },
  {
   "cell_type": "markdown",
   "metadata": {},
   "source": [
    "### Tuning the Model\n",
    "We now have a good baseline of how our model performs with these features. Let’s see if we can prune the tree to make it better!"
   ]
  },
  {
   "cell_type": "code",
   "execution_count": 132,
   "metadata": {},
   "outputs": [
    {
     "name": "stdout",
     "output_type": "stream",
     "text": [
      "0.3469387755102041\n",
      "0.22448979591836735\n",
      "0.3469387755102041\n",
      "0.32653061224489793\n",
      "0.3469387755102041\n",
      "0.3469387755102041\n",
      "0.3469387755102041\n",
      "0.3469387755102041\n",
      "0.3469387755102041\n",
      "0.3469387755102041\n",
      "0.3469387755102041\n",
      "0.3469387755102041\n",
      "0.3469387755102041\n",
      "0.3469387755102041\n",
      "0.3469387755102041\n",
      "0.3469387755102041\n",
      "0.3469387755102041\n",
      "0.3469387755102041\n",
      "0.3469387755102041\n",
      "0.3469387755102041\n"
     ]
    }
   ],
   "source": [
    "#We can prune our model changing the value of max_depth.\n",
    "#We are checking how the score changes using values from 1 to 20\n",
    "rng = range(1, 21)\n",
    "for i in rng:\n",
    "    tree = DecisionTreeClassifier(random_state = 1, max_depth = i)\n",
    "    tree.fit(train_data, train_labels)\n",
    "    print(tree.score(test_data, test_labels))"
   ]
  },
  {
   "cell_type": "markdown",
   "metadata": {},
   "source": [
    "We can visualize the data. We want the x-axis to show the depth of the tree and the y-axis to show the tree’s score."
   ]
  },
  {
   "cell_type": "code",
   "execution_count": 133,
   "metadata": {},
   "outputs": [],
   "source": [
    "#lets create a list of scores\n",
    "scores = []\n",
    "for i in rng:\n",
    "    tree = DecisionTreeClassifier(random_state = 1, max_depth = i)\n",
    "    tree.fit(train_data, train_labels)\n",
    "    scores.append(tree.score(test_data, test_labels))"
   ]
  },
  {
   "cell_type": "code",
   "execution_count": 134,
   "metadata": {},
   "outputs": [
    {
     "data": {
      "image/png": "[encoded data removed]",
      "text/plain": [
       "<Figure size 432x288 with 1 Axes>"
      ]
     },
     "metadata": {
      "needs_background": "light"
     },
     "output_type": "display_data"
    }
   ],
   "source": [
    "#let´s plot our points\n",
    "plt.plot(rng, scores)\n",
    "plt.show()"
   ]
  },
  {
   "cell_type": "markdown",
   "metadata": {},
   "source": [
    "Our graph doesn’t really look like we would expect it to. It seems like the depth of the tree isn’t really having an impact on its performance. This might be a good indication that we’re not using enough features.\n",
    "\n",
    "Let’s add all the features that have to do with shapes to our data. data should now be set equal to:"
   ]
  },
  {
   "cell_type": "code",
   "execution_count": 135,
   "metadata": {},
   "outputs": [],
   "source": [
    "data_all= flags[[\"Red\", \"Green\", \"Blue\", \"Gold\",\n",
    " \"White\", \"Black\", \"Orange\",\n",
    " \"Circles\",\n",
    "\"Crosses\",\"Saltires\",\"Quarters\",\"Sunstars\",\n",
    "\"Crescent\",\"Triangle\"]]"
   ]
  },
  {
   "cell_type": "code",
   "execution_count": 136,
   "metadata": {},
   "outputs": [
    {
     "data": {
      "image/png": "[encoded data removed]",
      "text/plain": [
       "<Figure size 432x288 with 1 Axes>"
      ]
     },
     "metadata": {
      "needs_background": "light"
     },
     "output_type": "display_data"
    }
   ],
   "source": [
    "#let´s train the model again\n",
    "train_data, test_data, train_labels, test_labels = train_test_split(data_all, labels, random_state = 1)\n",
    "scores_all = []\n",
    "for i in rng:\n",
    "    tree_all = DecisionTreeClassifier(random_state = 1, max_depth = i)\n",
    "    tree_all.fit(train_data, train_labels)\n",
    "    scores_all.append(tree_all.score(test_data, test_labels))\n",
    "plt.plot(rng, scores_all)\n",
    "plt.show()"
   ]
  },
  {
   "cell_type": "markdown",
   "metadata": {},
   "source": [
    "That graph looks more like what we’d expect. If the tree is too short, we’re underfitting and not accurately representing the training data. If the tree is too big, we’re getting too specific and relying too heavily on the training data."
   ]
  },
  {
   "cell_type": "code",
   "execution_count": 137,
   "metadata": {},
   "outputs": [],
   "source": [
    "#create a function so we can plot easily different features\n",
    "def score_plot(feature, label):\n",
    "    train_data, test_data, train_labels, test_labels = train_test_split(feature, label, random_state = 1)\n",
    "    scores = []\n",
    "    \n",
    "    for i in rng:\n",
    "        tree = DecisionTreeClassifier(random_state = 1, max_depth = i)\n",
    "        tree.fit(train_data, train_labels)\n",
    "        scores.append(tree.score(test_data, test_labels))\n",
    "    \n",
    "    plt.plot(rng, scores)\n",
    "    plt.show()"
   ]
  },
  {
   "cell_type": "code",
   "execution_count": 138,
   "metadata": {},
   "outputs": [
    {
     "data": {
      "image/png": "[encoded data removed]",
      "text/plain": [
       "<Figure size 432x288 with 1 Axes>"
      ]
     },
     "metadata": {
      "needs_background": "light"
     },
     "output_type": "display_data"
    }
   ],
   "source": [
    "#bars and stripes\n",
    "data= flags[[\"Bars\", \"Stripes\"]]\n",
    "score_plot(data, labels)"
   ]
  },
  {
   "cell_type": "code",
   "execution_count": 139,
   "metadata": {},
   "outputs": [
    {
     "data": {
      "image/png": "[encoded data removed]",
      "text/plain": [
       "<Figure size 432x288 with 1 Axes>"
      ]
     },
     "metadata": {
      "needs_background": "light"
     },
     "output_type": "display_data"
    }
   ],
   "source": [
    "#bars, stripes and colors\n",
    "data= flags[[\"Bars\", \"Stripes\", \"Colors\"]]\n",
    "score_plot(data, labels)"
   ]
  },
  {
   "cell_type": "code",
   "execution_count": 140,
   "metadata": {},
   "outputs": [
    {
     "data": {
      "image/png": "[encoded data removed]",
      "text/plain": [
       "<Figure size 432x288 with 1 Axes>"
      ]
     },
     "metadata": {
      "needs_background": "light"
     },
     "output_type": "display_data"
    }
   ],
   "source": [
    "data= flags[[\"Bars\", \"Stripes\", \"Colors\",\"Red\",\n",
    "             \"Green\", \"Blue\", \"Gold\",\n",
    "             \"White\", \"Black\", \"Orange\"]]\n",
    "score_plot(data, labels)"
   ]
  },
  {
   "cell_type": "code",
   "execution_count": 151,
   "metadata": {},
   "outputs": [
    {
     "data": {
      "image/png": "[encoded data removed]",
      "text/plain": [
       "<Figure size 432x288 with 1 Axes>"
      ]
     },
     "metadata": {
      "needs_background": "light"
     },
     "output_type": "display_data"
    }
   ],
   "source": [
    "data= flags[[\"Bars\", \"Stripes\", \"Red\",\n",
    "             \"Green\", \"Blue\", \"White\", \"Black\", \"Orange\",\n",
    "             \"Circles\",\"Crosses\",\"Saltires\",\"Sunstars\", \"Crescent\",\n",
    "\"Triangle\", \"Icon\", \"Animate\", \"Text\"]]\n",
    "score_plot(data, labels)"
   ]
  }
 ],
 "metadata": {
  "kernelspec": {
   "display_name": "Python 3",
   "language": "python",
   "name": "python3"
  },
  "language_info": {
   "codemirror_mode": {
    "name": "ipython",
    "version": 3
   },
   "file_extension": ".py",
   "mimetype": "text/x-python",
   "name": "python",
   "nbconvert_exporter": "python",
   "pygments_lexer": "ipython3",
   "version": "3.7.0"
  }
 },
 "nbformat": 4,
 "nbformat_minor": 2
}
