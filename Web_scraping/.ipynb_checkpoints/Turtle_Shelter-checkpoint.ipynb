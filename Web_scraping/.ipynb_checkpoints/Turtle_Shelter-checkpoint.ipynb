{
 "cells": [
  {
   "cell_type": "markdown",
   "metadata": {},
   "source": [
    "# Turtle Shelter"
   ]
  },
  {
   "cell_type": "markdown",
   "metadata": {},
   "source": [
    "Web Scraping practise using BeautifulSoup. "
   ]
  },
  {
   "cell_type": "code",
   "execution_count": 229,
   "metadata": {},
   "outputs": [],
   "source": [
    "#Importing libraries\n",
    "import requests\n",
    "from bs4 import BeautifulSoup\n",
    "import pandas as pd\n",
    "import matplotlib.pyplot as plt\n",
    "import numpy as np\n",
    "from sklearn.linear_model import LinearRegression"
   ]
  },
  {
   "cell_type": "code",
   "execution_count": 230,
   "metadata": {},
   "outputs": [],
   "source": [
    "prefix = \"https://s3.amazonaws.com/codecademy-content/courses/beautifulsoup/\"\n",
    "webpage_response = requests.get('https://s3.amazonaws.com/codecademy-content/courses/beautifulsoup/shellter.html')\n",
    "\n",
    "webpage = webpage_response.content\n",
    "soup = BeautifulSoup(webpage, \"html.parser\")\n",
    "\n",
    "turtle_links = soup.find_all(\"a\")\n",
    "links = []\n",
    "#go through all of the a tags and get the links associated with them\"\n",
    "for a in turtle_links:\n",
    "    links.append(prefix+a[\"href\"])\n",
    "    \n",
    "#Define turtle_data:\n",
    "turtle_data = {}\n",
    "\n",
    "#follow each link:\n",
    "for link in links:\n",
    "  webpage = requests.get(link)\n",
    "  turtle = BeautifulSoup(webpage.content, \"html.parser\")\n",
    "  turtle_name = turtle.select(\".name\")[0].get_text()\n",
    "  \n",
    "  stats = turtle.find(\"ul\")\n",
    "  stats_text = stats.get_text(\"|\")\n",
    "  turtle_data[turtle_name] = stats_text.split(\"|\")"
   ]
  },
  {
   "cell_type": "code",
   "execution_count": 231,
   "metadata": {},
   "outputs": [
    {
     "name": "stdout",
     "output_type": "stream",
     "text": [
      "           0                   1   2                3   4            5   6   \\\n",
      "Aesop      \\n    AGE: 7 Years Old  \\n    WEIGHT: 6 lbs  \\n  SEX: Female  \\n   \n",
      "Caesar     \\n    AGE: 2 Years Old  \\n    WEIGHT: 4 lbs  \\n    SEX: Male  \\n   \n",
      "Sulla      \\n     AGE: 1 Year Old  \\n     WEIGHT: 1 lb  \\n    SEX: Male  \\n   \n",
      "Spyro      \\n    AGE: 6 Years Old  \\n    WEIGHT: 3 lbs  \\n  SEX: Female  \\n   \n",
      "Zelda      \\n    AGE: 3 Years Old  \\n    WEIGHT: 2 lbs  \\n  SEX: Female  \\n   \n",
      "Bandicoot  \\n    AGE: 2 Years Old  \\n    WEIGHT: 2 lbs  \\n    SEX: Male  \\n   \n",
      "Hal        \\n     AGE: 1 Year Old  \\n  WEIGHT: 1.5 lbs  \\n  SEX: Female  \\n   \n",
      "Mock       \\n   AGE: 10 Years Old  \\n   WEIGHT: 10 lbs  \\n    SEX: Male  \\n   \n",
      "Sparrow    \\n  AGE: 1.5 Years Old  \\n  WEIGHT: 4.5 lbs  \\n  SEX: Female  \\n   \n",
      "\n",
      "                                               7   8   \\\n",
      "Aesop      BREED: African Aquatic Sideneck Turtle  \\n   \n",
      "Caesar                      BREED: Greek Tortoise  \\n   \n",
      "Sulla      BREED: African Aquatic Sideneck Turtle  \\n   \n",
      "Spyro                       BREED: Greek Tortoise  \\n   \n",
      "Zelda                   BREED: Eastern Box Turtle  \\n   \n",
      "Bandicoot  BREED: African Aquatic Sideneck Turtle  \\n   \n",
      "Hal                     BREED: Eastern Box Turtle  \\n   \n",
      "Mock                        BREED: Greek Tortoise  \\n   \n",
      "Sparrow    BREED: African Aquatic Sideneck Turtle  \\n   \n",
      "\n",
      "                                     9   10  \n",
      "Aesop        SOURCE: found in Lake Erie  \\n  \n",
      "Caesar         SOURCE: hatched in house  \\n  \n",
      "Sulla        SOURCE: found in Lake Erie  \\n  \n",
      "Spyro          SOURCE: hatched in house  \\n  \n",
      "Zelda      SOURCE: surrendered by owner  \\n  \n",
      "Bandicoot      SOURCE: hatched in house  \\n  \n",
      "Hal        SOURCE: surrendered by owner  \\n  \n",
      "Mock       SOURCE: surrendered by owner  \\n  \n",
      "Sparrow      SOURCE: found in Lake Erie  \\n  \n"
     ]
    }
   ],
   "source": [
    "turtle_df = pd.DataFrame.from_dict(turtle_data, orient='index')\n",
    "print(turtle_df)"
   ]
  },
  {
   "cell_type": "markdown",
   "metadata": {},
   "source": [
    "Now we have all of the turtles’ information in one DataFrame. But obviously, in just scraping this data and plopping it into Pandas, we’re left with a pretty messy DataFrame."
   ]
  },
  {
   "cell_type": "markdown",
   "metadata": {},
   "source": [
    "There are newlines in the data, the column names are hidden in strings in the rows, and none of the numerical data is stored as a numerical type.\n",
    "It would be pretty hard to create any sort of analysis on this raw data. What if we wanted to make a histogram of the ages of turtles in the Shellter?"
   ]
  },
  {
   "cell_type": "markdown",
   "metadata": {},
   "source": [
    "This is where Data Cleaning and Regex comes in! Try to practice what you know about data cleaning to get turtles_df into a usable state. It’s up to you to decide what “usable” means to you."
   ]
  },
  {
   "cell_type": "code",
   "execution_count": 232,
   "metadata": {},
   "outputs": [
    {
     "data": {
      "text/html": [
       "<div>\n",
       "<style scoped>\n",
       "    .dataframe tbody tr th:only-of-type {\n",
       "        vertical-align: middle;\n",
       "    }\n",
       "\n",
       "    .dataframe tbody tr th {\n",
       "        vertical-align: top;\n",
       "    }\n",
       "\n",
       "    .dataframe thead th {\n",
       "        text-align: right;\n",
       "    }\n",
       "</style>\n",
       "<table border=\"1\" class=\"dataframe\">\n",
       "  <thead>\n",
       "    <tr style=\"text-align: right;\">\n",
       "      <th></th>\n",
       "      <th>1</th>\n",
       "      <th>3</th>\n",
       "      <th>5</th>\n",
       "      <th>7</th>\n",
       "      <th>9</th>\n",
       "    </tr>\n",
       "  </thead>\n",
       "  <tbody>\n",
       "    <tr>\n",
       "      <th>Aesop</th>\n",
       "      <td>AGE: 7 Years Old</td>\n",
       "      <td>WEIGHT: 6 lbs</td>\n",
       "      <td>SEX: Female</td>\n",
       "      <td>BREED: African Aquatic Sideneck Turtle</td>\n",
       "      <td>SOURCE: found in Lake Erie</td>\n",
       "    </tr>\n",
       "    <tr>\n",
       "      <th>Caesar</th>\n",
       "      <td>AGE: 2 Years Old</td>\n",
       "      <td>WEIGHT: 4 lbs</td>\n",
       "      <td>SEX: Male</td>\n",
       "      <td>BREED: Greek Tortoise</td>\n",
       "      <td>SOURCE: hatched in house</td>\n",
       "    </tr>\n",
       "    <tr>\n",
       "      <th>Sulla</th>\n",
       "      <td>AGE: 1 Year Old</td>\n",
       "      <td>WEIGHT: 1 lb</td>\n",
       "      <td>SEX: Male</td>\n",
       "      <td>BREED: African Aquatic Sideneck Turtle</td>\n",
       "      <td>SOURCE: found in Lake Erie</td>\n",
       "    </tr>\n",
       "    <tr>\n",
       "      <th>Spyro</th>\n",
       "      <td>AGE: 6 Years Old</td>\n",
       "      <td>WEIGHT: 3 lbs</td>\n",
       "      <td>SEX: Female</td>\n",
       "      <td>BREED: Greek Tortoise</td>\n",
       "      <td>SOURCE: hatched in house</td>\n",
       "    </tr>\n",
       "    <tr>\n",
       "      <th>Zelda</th>\n",
       "      <td>AGE: 3 Years Old</td>\n",
       "      <td>WEIGHT: 2 lbs</td>\n",
       "      <td>SEX: Female</td>\n",
       "      <td>BREED: Eastern Box Turtle</td>\n",
       "      <td>SOURCE: surrendered by owner</td>\n",
       "    </tr>\n",
       "    <tr>\n",
       "      <th>Bandicoot</th>\n",
       "      <td>AGE: 2 Years Old</td>\n",
       "      <td>WEIGHT: 2 lbs</td>\n",
       "      <td>SEX: Male</td>\n",
       "      <td>BREED: African Aquatic Sideneck Turtle</td>\n",
       "      <td>SOURCE: hatched in house</td>\n",
       "    </tr>\n",
       "    <tr>\n",
       "      <th>Hal</th>\n",
       "      <td>AGE: 1 Year Old</td>\n",
       "      <td>WEIGHT: 1.5 lbs</td>\n",
       "      <td>SEX: Female</td>\n",
       "      <td>BREED: Eastern Box Turtle</td>\n",
       "      <td>SOURCE: surrendered by owner</td>\n",
       "    </tr>\n",
       "    <tr>\n",
       "      <th>Mock</th>\n",
       "      <td>AGE: 10 Years Old</td>\n",
       "      <td>WEIGHT: 10 lbs</td>\n",
       "      <td>SEX: Male</td>\n",
       "      <td>BREED: Greek Tortoise</td>\n",
       "      <td>SOURCE: surrendered by owner</td>\n",
       "    </tr>\n",
       "    <tr>\n",
       "      <th>Sparrow</th>\n",
       "      <td>AGE: 1.5 Years Old</td>\n",
       "      <td>WEIGHT: 4.5 lbs</td>\n",
       "      <td>SEX: Female</td>\n",
       "      <td>BREED: African Aquatic Sideneck Turtle</td>\n",
       "      <td>SOURCE: found in Lake Erie</td>\n",
       "    </tr>\n",
       "  </tbody>\n",
       "</table>\n",
       "</div>"
      ],
      "text/plain": [
       "                            1                3            5  \\\n",
       "Aesop        AGE: 7 Years Old    WEIGHT: 6 lbs  SEX: Female   \n",
       "Caesar       AGE: 2 Years Old    WEIGHT: 4 lbs    SEX: Male   \n",
       "Sulla         AGE: 1 Year Old     WEIGHT: 1 lb    SEX: Male   \n",
       "Spyro        AGE: 6 Years Old    WEIGHT: 3 lbs  SEX: Female   \n",
       "Zelda        AGE: 3 Years Old    WEIGHT: 2 lbs  SEX: Female   \n",
       "Bandicoot    AGE: 2 Years Old    WEIGHT: 2 lbs    SEX: Male   \n",
       "Hal           AGE: 1 Year Old  WEIGHT: 1.5 lbs  SEX: Female   \n",
       "Mock        AGE: 10 Years Old   WEIGHT: 10 lbs    SEX: Male   \n",
       "Sparrow    AGE: 1.5 Years Old  WEIGHT: 4.5 lbs  SEX: Female   \n",
       "\n",
       "                                                7  \\\n",
       "Aesop      BREED: African Aquatic Sideneck Turtle   \n",
       "Caesar                      BREED: Greek Tortoise   \n",
       "Sulla      BREED: African Aquatic Sideneck Turtle   \n",
       "Spyro                       BREED: Greek Tortoise   \n",
       "Zelda                   BREED: Eastern Box Turtle   \n",
       "Bandicoot  BREED: African Aquatic Sideneck Turtle   \n",
       "Hal                     BREED: Eastern Box Turtle   \n",
       "Mock                        BREED: Greek Tortoise   \n",
       "Sparrow    BREED: African Aquatic Sideneck Turtle   \n",
       "\n",
       "                                      9  \n",
       "Aesop        SOURCE: found in Lake Erie  \n",
       "Caesar         SOURCE: hatched in house  \n",
       "Sulla        SOURCE: found in Lake Erie  \n",
       "Spyro          SOURCE: hatched in house  \n",
       "Zelda      SOURCE: surrendered by owner  \n",
       "Bandicoot      SOURCE: hatched in house  \n",
       "Hal        SOURCE: surrendered by owner  \n",
       "Mock       SOURCE: surrendered by owner  \n",
       "Sparrow      SOURCE: found in Lake Erie  "
      ]
     },
     "execution_count": 232,
     "metadata": {},
     "output_type": "execute_result"
    }
   ],
   "source": [
    "#drop columns we dont need\n",
    "turtle_df = turtle_df.drop([0, 2, 4, 6, 8, 10], axis=1)\n",
    "turtle_df"
   ]
  },
  {
   "cell_type": "code",
   "execution_count": 233,
   "metadata": {},
   "outputs": [
    {
     "data": {
      "text/html": [
       "<div>\n",
       "<style scoped>\n",
       "    .dataframe tbody tr th:only-of-type {\n",
       "        vertical-align: middle;\n",
       "    }\n",
       "\n",
       "    .dataframe tbody tr th {\n",
       "        vertical-align: top;\n",
       "    }\n",
       "\n",
       "    .dataframe thead th {\n",
       "        text-align: right;\n",
       "    }\n",
       "</style>\n",
       "<table border=\"1\" class=\"dataframe\">\n",
       "  <thead>\n",
       "    <tr style=\"text-align: right;\">\n",
       "      <th></th>\n",
       "      <th>Name</th>\n",
       "      <th>Age</th>\n",
       "      <th>Weight</th>\n",
       "      <th>Sex</th>\n",
       "      <th>Breed</th>\n",
       "      <th>Source</th>\n",
       "    </tr>\n",
       "  </thead>\n",
       "  <tbody>\n",
       "    <tr>\n",
       "      <th>0</th>\n",
       "      <td>Aesop</td>\n",
       "      <td>AGE: 7 Years Old</td>\n",
       "      <td>WEIGHT: 6 lbs</td>\n",
       "      <td>SEX: Female</td>\n",
       "      <td>BREED: African Aquatic Sideneck Turtle</td>\n",
       "      <td>SOURCE: found in Lake Erie</td>\n",
       "    </tr>\n",
       "    <tr>\n",
       "      <th>1</th>\n",
       "      <td>Caesar</td>\n",
       "      <td>AGE: 2 Years Old</td>\n",
       "      <td>WEIGHT: 4 lbs</td>\n",
       "      <td>SEX: Male</td>\n",
       "      <td>BREED: Greek Tortoise</td>\n",
       "      <td>SOURCE: hatched in house</td>\n",
       "    </tr>\n",
       "    <tr>\n",
       "      <th>2</th>\n",
       "      <td>Sulla</td>\n",
       "      <td>AGE: 1 Year Old</td>\n",
       "      <td>WEIGHT: 1 lb</td>\n",
       "      <td>SEX: Male</td>\n",
       "      <td>BREED: African Aquatic Sideneck Turtle</td>\n",
       "      <td>SOURCE: found in Lake Erie</td>\n",
       "    </tr>\n",
       "    <tr>\n",
       "      <th>3</th>\n",
       "      <td>Spyro</td>\n",
       "      <td>AGE: 6 Years Old</td>\n",
       "      <td>WEIGHT: 3 lbs</td>\n",
       "      <td>SEX: Female</td>\n",
       "      <td>BREED: Greek Tortoise</td>\n",
       "      <td>SOURCE: hatched in house</td>\n",
       "    </tr>\n",
       "    <tr>\n",
       "      <th>4</th>\n",
       "      <td>Zelda</td>\n",
       "      <td>AGE: 3 Years Old</td>\n",
       "      <td>WEIGHT: 2 lbs</td>\n",
       "      <td>SEX: Female</td>\n",
       "      <td>BREED: Eastern Box Turtle</td>\n",
       "      <td>SOURCE: surrendered by owner</td>\n",
       "    </tr>\n",
       "    <tr>\n",
       "      <th>5</th>\n",
       "      <td>Bandicoot</td>\n",
       "      <td>AGE: 2 Years Old</td>\n",
       "      <td>WEIGHT: 2 lbs</td>\n",
       "      <td>SEX: Male</td>\n",
       "      <td>BREED: African Aquatic Sideneck Turtle</td>\n",
       "      <td>SOURCE: hatched in house</td>\n",
       "    </tr>\n",
       "    <tr>\n",
       "      <th>6</th>\n",
       "      <td>Hal</td>\n",
       "      <td>AGE: 1 Year Old</td>\n",
       "      <td>WEIGHT: 1.5 lbs</td>\n",
       "      <td>SEX: Female</td>\n",
       "      <td>BREED: Eastern Box Turtle</td>\n",
       "      <td>SOURCE: surrendered by owner</td>\n",
       "    </tr>\n",
       "    <tr>\n",
       "      <th>7</th>\n",
       "      <td>Mock</td>\n",
       "      <td>AGE: 10 Years Old</td>\n",
       "      <td>WEIGHT: 10 lbs</td>\n",
       "      <td>SEX: Male</td>\n",
       "      <td>BREED: Greek Tortoise</td>\n",
       "      <td>SOURCE: surrendered by owner</td>\n",
       "    </tr>\n",
       "    <tr>\n",
       "      <th>8</th>\n",
       "      <td>Sparrow</td>\n",
       "      <td>AGE: 1.5 Years Old</td>\n",
       "      <td>WEIGHT: 4.5 lbs</td>\n",
       "      <td>SEX: Female</td>\n",
       "      <td>BREED: African Aquatic Sideneck Turtle</td>\n",
       "      <td>SOURCE: found in Lake Erie</td>\n",
       "    </tr>\n",
       "  </tbody>\n",
       "</table>\n",
       "</div>"
      ],
      "text/plain": [
       "        Name                 Age           Weight          Sex  \\\n",
       "0      Aesop    AGE: 7 Years Old    WEIGHT: 6 lbs  SEX: Female   \n",
       "1     Caesar    AGE: 2 Years Old    WEIGHT: 4 lbs    SEX: Male   \n",
       "2      Sulla     AGE: 1 Year Old     WEIGHT: 1 lb    SEX: Male   \n",
       "3      Spyro    AGE: 6 Years Old    WEIGHT: 3 lbs  SEX: Female   \n",
       "4      Zelda    AGE: 3 Years Old    WEIGHT: 2 lbs  SEX: Female   \n",
       "5  Bandicoot    AGE: 2 Years Old    WEIGHT: 2 lbs    SEX: Male   \n",
       "6        Hal     AGE: 1 Year Old  WEIGHT: 1.5 lbs  SEX: Female   \n",
       "7       Mock   AGE: 10 Years Old   WEIGHT: 10 lbs    SEX: Male   \n",
       "8    Sparrow  AGE: 1.5 Years Old  WEIGHT: 4.5 lbs  SEX: Female   \n",
       "\n",
       "                                    Breed                        Source  \n",
       "0  BREED: African Aquatic Sideneck Turtle    SOURCE: found in Lake Erie  \n",
       "1                   BREED: Greek Tortoise      SOURCE: hatched in house  \n",
       "2  BREED: African Aquatic Sideneck Turtle    SOURCE: found in Lake Erie  \n",
       "3                   BREED: Greek Tortoise      SOURCE: hatched in house  \n",
       "4               BREED: Eastern Box Turtle  SOURCE: surrendered by owner  \n",
       "5  BREED: African Aquatic Sideneck Turtle      SOURCE: hatched in house  \n",
       "6               BREED: Eastern Box Turtle  SOURCE: surrendered by owner  \n",
       "7                   BREED: Greek Tortoise  SOURCE: surrendered by owner  \n",
       "8  BREED: African Aquatic Sideneck Turtle    SOURCE: found in Lake Erie  "
      ]
     },
     "execution_count": 233,
     "metadata": {},
     "output_type": "execute_result"
    }
   ],
   "source": [
    "#Reset index and rename columns\n",
    "turtle_df = turtle_df.reset_index()\n",
    "turtle_df.columns=[\"Name\", \"Age\", \"Weight\", \"Sex\", \"Breed\", \"Source\"]\n",
    "turtle_df"
   ]
  },
  {
   "cell_type": "markdown",
   "metadata": {},
   "source": [
    "Using regex to extract numerical data and cleaning the other columns"
   ]
  },
  {
   "cell_type": "code",
   "execution_count": 234,
   "metadata": {},
   "outputs": [],
   "source": [
    "turtle_df.Weight = turtle_df[\"Weight\"].replace(\"[lbs,]\",\"\", regex=True)\n",
    "turtle_df.Weight = turtle_df[\"Weight\"].replace(\"[WEIGHT: ,]\",\"\", regex=True)\n",
    "turtle_df.Weight = pd.to_numeric(turtle_df.Weight)\n",
    "turtle_df.Age = turtle_df[\"Age\"].replace(\"[Years Old,]\",\"\", regex=True)\n",
    "turtle_df.Age = turtle_df[\"Age\"].replace(\"[AGE: ,]\",\"\", regex=True)\n",
    "turtle_df.Age = pd.to_numeric(turtle_df.Age)\n",
    "turtle_df.Sex = turtle_df[\"Sex\"].replace(\"[SEX: ,]\",\"\", regex=True)\n",
    "turtle_df.Breed = turtle_df[\"Breed\"].replace(\"[BREED:,]\",\"\", regex=True)\n",
    "turtle_df.Source = turtle_df[\"Source\"].replace(\"[SOURCE:,]\",\"\", regex=True)"
   ]
  },
  {
   "cell_type": "code",
   "execution_count": 235,
   "metadata": {},
   "outputs": [
    {
     "data": {
      "text/html": [
       "<div>\n",
       "<style scoped>\n",
       "    .dataframe tbody tr th:only-of-type {\n",
       "        vertical-align: middle;\n",
       "    }\n",
       "\n",
       "    .dataframe tbody tr th {\n",
       "        vertical-align: top;\n",
       "    }\n",
       "\n",
       "    .dataframe thead th {\n",
       "        text-align: right;\n",
       "    }\n",
       "</style>\n",
       "<table border=\"1\" class=\"dataframe\">\n",
       "  <thead>\n",
       "    <tr style=\"text-align: right;\">\n",
       "      <th></th>\n",
       "      <th>Name</th>\n",
       "      <th>Age</th>\n",
       "      <th>Weight</th>\n",
       "      <th>Sex</th>\n",
       "      <th>Breed</th>\n",
       "      <th>Source</th>\n",
       "    </tr>\n",
       "  </thead>\n",
       "  <tbody>\n",
       "    <tr>\n",
       "      <th>0</th>\n",
       "      <td>Aesop</td>\n",
       "      <td>7.0</td>\n",
       "      <td>6.0</td>\n",
       "      <td>Female</td>\n",
       "      <td>African Aquatic Sideneck Turtle</td>\n",
       "      <td>found in Lake rie</td>\n",
       "    </tr>\n",
       "    <tr>\n",
       "      <th>1</th>\n",
       "      <td>Caesar</td>\n",
       "      <td>2.0</td>\n",
       "      <td>4.0</td>\n",
       "      <td>Male</td>\n",
       "      <td>Greek Tortoise</td>\n",
       "      <td>hatched in house</td>\n",
       "    </tr>\n",
       "    <tr>\n",
       "      <th>2</th>\n",
       "      <td>Sulla</td>\n",
       "      <td>1.0</td>\n",
       "      <td>1.0</td>\n",
       "      <td>Male</td>\n",
       "      <td>African Aquatic Sideneck Turtle</td>\n",
       "      <td>found in Lake rie</td>\n",
       "    </tr>\n",
       "    <tr>\n",
       "      <th>3</th>\n",
       "      <td>Spyro</td>\n",
       "      <td>6.0</td>\n",
       "      <td>3.0</td>\n",
       "      <td>Female</td>\n",
       "      <td>Greek Tortoise</td>\n",
       "      <td>hatched in house</td>\n",
       "    </tr>\n",
       "    <tr>\n",
       "      <th>4</th>\n",
       "      <td>Zelda</td>\n",
       "      <td>3.0</td>\n",
       "      <td>2.0</td>\n",
       "      <td>Female</td>\n",
       "      <td>astern ox Turtle</td>\n",
       "      <td>surrendered by owner</td>\n",
       "    </tr>\n",
       "    <tr>\n",
       "      <th>5</th>\n",
       "      <td>Bandicoot</td>\n",
       "      <td>2.0</td>\n",
       "      <td>2.0</td>\n",
       "      <td>Male</td>\n",
       "      <td>African Aquatic Sideneck Turtle</td>\n",
       "      <td>hatched in house</td>\n",
       "    </tr>\n",
       "    <tr>\n",
       "      <th>6</th>\n",
       "      <td>Hal</td>\n",
       "      <td>1.0</td>\n",
       "      <td>1.5</td>\n",
       "      <td>Female</td>\n",
       "      <td>astern ox Turtle</td>\n",
       "      <td>surrendered by owner</td>\n",
       "    </tr>\n",
       "    <tr>\n",
       "      <th>7</th>\n",
       "      <td>Mock</td>\n",
       "      <td>10.0</td>\n",
       "      <td>10.0</td>\n",
       "      <td>Male</td>\n",
       "      <td>Greek Tortoise</td>\n",
       "      <td>surrendered by owner</td>\n",
       "    </tr>\n",
       "    <tr>\n",
       "      <th>8</th>\n",
       "      <td>Sparrow</td>\n",
       "      <td>1.5</td>\n",
       "      <td>4.5</td>\n",
       "      <td>Female</td>\n",
       "      <td>African Aquatic Sideneck Turtle</td>\n",
       "      <td>found in Lake rie</td>\n",
       "    </tr>\n",
       "  </tbody>\n",
       "</table>\n",
       "</div>"
      ],
      "text/plain": [
       "        Name   Age  Weight     Sex                             Breed  \\\n",
       "0      Aesop   7.0     6.0  Female   African Aquatic Sideneck Turtle   \n",
       "1     Caesar   2.0     4.0    Male                    Greek Tortoise   \n",
       "2      Sulla   1.0     1.0    Male   African Aquatic Sideneck Turtle   \n",
       "3      Spyro   6.0     3.0  Female                    Greek Tortoise   \n",
       "4      Zelda   3.0     2.0  Female                  astern ox Turtle   \n",
       "5  Bandicoot   2.0     2.0    Male   African Aquatic Sideneck Turtle   \n",
       "6        Hal   1.0     1.5  Female                  astern ox Turtle   \n",
       "7       Mock  10.0    10.0    Male                    Greek Tortoise   \n",
       "8    Sparrow   1.5     4.5  Female   African Aquatic Sideneck Turtle   \n",
       "\n",
       "                  Source  \n",
       "0      found in Lake rie  \n",
       "1       hatched in house  \n",
       "2      found in Lake rie  \n",
       "3       hatched in house  \n",
       "4   surrendered by owner  \n",
       "5       hatched in house  \n",
       "6   surrendered by owner  \n",
       "7   surrendered by owner  \n",
       "8      found in Lake rie  "
      ]
     },
     "execution_count": 235,
     "metadata": {},
     "output_type": "execute_result"
    }
   ],
   "source": [
    "turtle_df"
   ]
  },
  {
   "cell_type": "markdown",
   "metadata": {},
   "source": [
    "Now we can create a histogram of Age and Weight. And then see the relation between both."
   ]
  },
  {
   "cell_type": "code",
   "execution_count": 236,
   "metadata": {},
   "outputs": [],
   "source": [
    "Ages = turtle_df[\"Age\"]\n",
    "Weights = turtle_df[\"Weight\"]"
   ]
  },
  {
   "cell_type": "code",
   "execution_count": 237,
   "metadata": {},
   "outputs": [
    {
     "data": {
      "image/png": "[encoded data removed]",
      "text/plain": [
       "<Figure size 432x288 with 1 Axes>"
      ]
     },
     "metadata": {
      "needs_background": "light"
     },
     "output_type": "display_data"
    }
   ],
   "source": [
    "plt.hist(Ages)\n",
    "plt.show()"
   ]
  },
  {
   "cell_type": "code",
   "execution_count": 238,
   "metadata": {},
   "outputs": [
    {
     "data": {
      "image/png": "[encoded data removed]",
      "text/plain": [
       "<Figure size 432x288 with 1 Axes>"
      ]
     },
     "metadata": {
      "needs_background": "light"
     },
     "output_type": "display_data"
    }
   ],
   "source": [
    "plt.hist(Weights)\n",
    "plt.show()"
   ]
  },
  {
   "cell_type": "code",
   "execution_count": 239,
   "metadata": {},
   "outputs": [
    {
     "data": {
      "image/png": "[encoded data removed]",
      "text/plain": [
       "<Figure size 432x288 with 1 Axes>"
      ]
     },
     "metadata": {
      "needs_background": "light"
     },
     "output_type": "display_data"
    }
   ],
   "source": [
    "plt.scatter(Ages, Weights)\n",
    "plt.show()"
   ]
  },
  {
   "cell_type": "code",
   "execution_count": 240,
   "metadata": {},
   "outputs": [
    {
     "data": {
      "image/png": "[encoded data removed]",
      "text/plain": [
       "<Figure size 432x288 with 1 Axes>"
      ]
     },
     "metadata": {
      "needs_background": "light"
     },
     "output_type": "display_data"
    }
   ],
   "source": [
    "y = turtle_df[\"Weight\"]\n",
    "x = turtle_df[\"Age\"]\n",
    "fit = np.polyfit(x, y, deg=1)\n",
    "plt.scatter(Ages, Weights)\n",
    "plt.title('Relation between Age and Weight')\n",
    "plt.ylabel('Weight')\n",
    "plt.xlabel('Age')\n",
    "plt.plot(x, fit[0] * x + fit[1], color='red')\n",
    "\n",
    "plt.show()"
   ]
  }
 ],
 "metadata": {
  "kernelspec": {
   "display_name": "Python 3",
   "language": "python",
   "name": "python3"
  },
  "language_info": {
   "codemirror_mode": {
    "name": "ipython",
    "version": 3
   },
   "file_extension": ".py",
   "mimetype": "text/x-python",
   "name": "python",
   "nbconvert_exporter": "python",
   "pygments_lexer": "ipython3",
   "version": "3.7.0"
  }
 },
 "nbformat": 4,
 "nbformat_minor": 2
}
